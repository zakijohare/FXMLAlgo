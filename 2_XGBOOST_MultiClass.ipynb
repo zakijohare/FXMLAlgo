{
  "cells": [
    {
      "cell_type": "markdown",
      "id": "0bd7552b",
      "metadata": {
        "id": "0bd7552b"
      },
      "source": [
        "### Imports"
      ]
    },
    {
      "cell_type": "code",
      "execution_count": null,
      "id": "cff7306c",
      "metadata": {
        "id": "cff7306c"
      },
      "outputs": [],
      "source": [
        "# Remove Future Warnings\n",
        "import warnings\n",
        "warnings.simplefilter(action='ignore', category=FutureWarning)\n",
        "\n",
        "# General\n",
        "import numpy as np\n",
        "import os\n",
        "\n",
        "# Data Management\n",
        "import pandas as pd\n",
        "from sklearn.model_selection import train_test_split\n",
        "\n",
        "# Optimisation\n",
        "from hyperopt import hp, fmin, tpe, STATUS_OK, Trials, space_eval\n",
        "from sklearn.model_selection import cross_val_score\n",
        "\n",
        "# Machine LearninG\n",
        "import xgboost\n",
        "from xgboost import XGBClassifier\n",
        "from sklearn.model_selection import RandomizedSearchCV, cross_val_score\n",
        "from sklearn.model_selection import RepeatedStratifiedKFold\n",
        "from sklearn.metrics import log_loss\n",
        "\n",
        "# Evaluation\n",
        "# General Metrics\n",
        "from sklearn.metrics import accuracy_score\n",
        "from sklearn.metrics import classification_report\n",
        "from sklearn.metrics import precision_score\n",
        "from sklearn.metrics import confusion_matrix\n",
        "from sklearn.metrics import ConfusionMatrixDisplay\n",
        "from sklearn.metrics import make_scorer\n",
        "\n",
        "# Reporting\n",
        "import matplotlib.pyplot as plt\n"
      ]
    },
    {
      "cell_type": "markdown",
      "id": "ba052341",
      "metadata": {
        "id": "ba052341"
      },
      "source": [
        "### Import Preprocessed Data"
      ]
    },
    {
      "cell_type": "code",
      "execution_count": null,
      "id": "86261e69-02af-456e-899d-8f1888fdbb5b",
      "metadata": {
        "id": "86261e69-02af-456e-899d-8f1888fdbb5b"
      },
      "outputs": [],
      "source": [
        "# Construct the file path\n",
        "file_path = os.path.join('Data Augmented', 'XAU_USD_M15_AUGMENTED_MULTICLASS.pkl')\n",
        "\n",
        "# Load the dataset\n",
        "df = pd.read_pickle(file_path)"
      ]
    },
    {
      "cell_type": "code",
      "execution_count": null,
      "id": "964fff83-d56f-4c35-8179-893fb796f99b",
      "metadata": {
        "id": "964fff83-d56f-4c35-8179-893fb796f99b",
        "outputId": "8ffacb26-68ab-4984-f9bd-ec5bd010b6e3"
      },
      "outputs": [
        {
          "name": "stdout",
          "output_type": "stream",
          "text": [
            "Shape of entire DataFrame:  (23562, 27)\n",
            "Shape of X:  (23562, 26)\n",
            "Shape of y:  (23562,)\n",
            "\n",
            "First 5 rows of features (X):\n",
            "       PC_0      PC_1      PC_2      PC_3      PC_4      PC_5      PC_6  \\\n",
            "0 -6.254425  2.829216 -4.891684 -2.845976  4.008486 -8.555140  5.862690   \n",
            "1 -3.850872  4.903726 -1.756492 -5.537689  2.208127 -4.524315  3.431820   \n",
            "2 -1.095318  5.893986 -0.804774 -5.597807  2.819885 -6.055102  5.503417   \n",
            "3  2.351989  7.265397  1.256356 -5.356025  4.113341 -6.214222  3.473383   \n",
            "4  0.294494  5.522330 -1.981066 -4.531020  2.242955 -5.241408  3.138588   \n",
            "\n",
            "        PC_7      PC_8      PC_9  ...     PC_16     PC_17      PC_18  \\\n",
            "0   7.165960  3.078656  3.506201  ...  3.422188 -2.717913 -14.004499   \n",
            "1  11.216646 -0.391129  3.273041  ...  2.816306 -1.706859 -10.416053   \n",
            "2   9.982037  1.918705  5.091947  ...  3.110125 -3.930625  -6.267588   \n",
            "3   9.101391  0.924793  5.216997  ...  2.856252 -0.231934 -13.271259   \n",
            "4  10.148424  0.734575  5.403931  ...  3.014510 -1.393204 -10.976878   \n",
            "\n",
            "       PC_19     PC_20     PC_21      PC_22     PC_23     PC_24     PC_25  \n",
            "0 -12.910195  4.145780 -0.423653  14.340557  6.488940  9.508588  2.280161  \n",
            "1 -13.386968  3.252920 -3.765224  12.848700  6.953216  7.329132  1.867486  \n",
            "2  -7.206640  3.664679 -1.927819  10.473616  5.333419  6.082357  1.470231  \n",
            "3 -16.413667  4.734509 -2.904687  13.437568  6.211813  6.376945  1.979798  \n",
            "4 -14.925050  3.772343 -2.560987  12.395841  6.239294  6.073382  1.937782  \n",
            "\n",
            "[5 rows x 26 columns]\n",
            "\n",
            "First 5 rows of target (y):\n",
            "0    0\n",
            "1    0\n",
            "2    2\n",
            "3    2\n",
            "4    0\n",
            "Name: signal, dtype: int64\n",
            "\n",
            "Type of X:  <class 'pandas.core.frame.DataFrame'>\n",
            "Type of y:  <class 'pandas.core.series.Series'>\n"
          ]
        }
      ],
      "source": [
        "# Assuming the last column is the target variable and the rest are features\n",
        "X = df.iloc[:, :-1]\n",
        "y = df.iloc[:, -1]\n",
        "\n",
        "# Now, let's perform some checks to ensure it worked\n",
        "print(\"Shape of entire DataFrame: \", df.shape)\n",
        "print(\"Shape of X: \", X.shape)\n",
        "print(\"Shape of y: \", y.shape)\n",
        "\n",
        "# Check the first few records to ensure the split looks correct\n",
        "print(\"\\nFirst 5 rows of features (X):\")\n",
        "print(X.head())\n",
        "print(\"\\nFirst 5 rows of target (y):\")\n",
        "print(y.head())\n",
        "\n",
        "# Check the types to confirm they are pandas DataFrames/Series\n",
        "print(\"\\nType of X: \", type(X))\n",
        "print(\"Type of y: \", type(y))\n"
      ]
    },
    {
      "cell_type": "markdown",
      "id": "333e09d6",
      "metadata": {
        "id": "333e09d6"
      },
      "source": [
        "### Train Test Split"
      ]
    },
    {
      "cell_type": "code",
      "execution_count": null,
      "id": "9bea03f0-61c4-45c9-afff-400ad7003150",
      "metadata": {
        "id": "9bea03f0-61c4-45c9-afff-400ad7003150"
      },
      "outputs": [],
      "source": [
        "# Assuming X and y are your features and labels respectively and they are already ordered sequentially\n",
        "dataset_size = len(X)\n",
        "train_size = int(dataset_size * 0.7)  # 70% of data for training\n",
        "\n",
        "# Split the dataset into training set and test set without shuffling\n",
        "X_train = X[:train_size]\n",
        "X_test = X[train_size:]\n",
        "y_train = y[:train_size]\n",
        "y_test = y[train_size:]"
      ]
    },
    {
      "cell_type": "code",
      "execution_count": null,
      "id": "487df500",
      "metadata": {
        "id": "487df500",
        "outputId": "08dc0fa8-ec4e-41c8-d1a4-8851c048e7f3"
      },
      "outputs": [
        {
          "name": "stdout",
          "output_type": "stream",
          "text": [
            "Shape of X_train:  (16493, 26)\n",
            "Shape of y_train:  (16493,)\n",
            "Shape of X_test:  (7069, 26)\n",
            "Shape of y_test:  (7069,)\n",
            "Size Matches:  True\n"
          ]
        }
      ],
      "source": [
        "size_check = len(y_test) + len(y_train) == len(X)\n",
        "print(\"Shape of X_train: \", X_train.shape)\n",
        "print(\"Shape of y_train: \", y_train.shape)\n",
        "print(\"Shape of X_test: \", X_test.shape)\n",
        "print(\"Shape of y_test: \", y_test.shape)\n",
        "print(\"Size Matches: \", size_check)"
      ]
    },
    {
      "cell_type": "markdown",
      "id": "3470201b",
      "metadata": {
        "id": "3470201b"
      },
      "source": [
        "### Build Initial Model"
      ]
    },
    {
      "cell_type": "code",
      "execution_count": null,
      "id": "43e0d22f",
      "metadata": {
        "id": "43e0d22f"
      },
      "outputs": [],
      "source": [
        "\n",
        "space = {\n",
        "    'max_depth': hp.choice('max_depth', range(3, 15, 1)),\n",
        "    'min_child_weight': hp.quniform('min_child_weight', 1, 6, 1),\n",
        "    'gamma': hp.uniform('gamma', 0, 0.5),\n",
        "    'subsample': hp.uniform('subsample', 0.5, 1),\n",
        "    'colsample_bytree': hp.uniform('colsample_bytree', 0.5, 1),\n",
        "    'reg_alpha': hp.uniform('reg_alpha', 0.01, 0.3),\n",
        "    'reg_lambda': hp.uniform('reg_lambda', 0.01, 0.3),\n",
        "    'learning_rate': hp.uniform('learning_rate', 0.01, 0.2),\n",
        "    'n_estimators': hp.choice('n_estimators', range(100, 1000, 100)),\n",
        "    'objective': 'multi:softmax',\n",
        "    'num_class': 3\n",
        "}"
      ]
    },
    {
      "cell_type": "code",
      "execution_count": null,
      "id": "10994527-45b5-43e9-a834-23d0bc293127",
      "metadata": {
        "id": "10994527-45b5-43e9-a834-23d0bc293127",
        "outputId": "a41a234e-0925-4517-f307-b0aef2aaa612"
      },
      "outputs": [
        {
          "name": "stdout",
          "output_type": "stream",
          "text": [
            "100%|██████████████████████████████████████████████████████| 50/50 [42:41<00:00, 51.23s/trial, best loss: -0.8114992721979621]\n",
            "The best hyperparameters are: {'colsample_bytree': 0.7012626211318509, 'gamma': 0.18491071141285537, 'learning_rate': 0.15328063590185478, 'max_depth': 0, 'min_child_weight': 4.0, 'n_estimators': 6, 'reg_alpha': 0.2603758573177602, 'reg_lambda': 0.10969731591700628, 'subsample': 0.5692755190587262}\n"
          ]
        }
      ],
      "source": [
        "from sklearn.model_selection import cross_validate\n",
        "\n",
        "def objective(space):\n",
        "\n",
        "    classifier_0 = XGBClassifier(**space)\n",
        "    # Use TimeSeriesSplit for cross-validation\n",
        "    tscv = TimeSeriesSplit(n_splits=5)\n",
        "    accuracy_scores = cross_validate(classifier_0, X_train, y_train, scoring='accuracy', cv=tscv)\n",
        "\n",
        "    return {'loss': -np.mean(accuracy_scores['test_score']), 'status': STATUS_OK}\n",
        "\n",
        "# Initialize trials object\n",
        "trials = Trials()\n",
        "\n",
        "# Define your space variable here, as it's not provided in the original snippet\n",
        "\n",
        "# Run the hyperparameter search using the tpe algorithm\n",
        "best_hyperparams = fmin(fn=objective,\n",
        "                        space=space,\n",
        "                        algo=tpe.suggest,\n",
        "                        max_evals=50,\n",
        "                        trials=trials)\n",
        "\n",
        "print(\"The best hyperparameters are:\", best_hyperparams)\n"
      ]
    },
    {
      "cell_type": "markdown",
      "id": "167d9494",
      "metadata": {
        "id": "167d9494"
      },
      "source": [
        "### Train Model"
      ]
    },
    {
      "cell_type": "code",
      "execution_count": null,
      "id": "1c8ce9c7-88fa-4ac1-a411-a11474a8805d",
      "metadata": {
        "id": "1c8ce9c7-88fa-4ac1-a411-a11474a8805d"
      },
      "outputs": [],
      "source": [
        "\n",
        "# Use space_eval to get the actual hyperparameters from the best indices returned by fmin\n",
        "actual_best_params = space_eval(space, best_hyperparams)\n",
        "# Build Classification Model 1 with the best hyperparameters\n",
        "classifier_1 = XGBClassifier(**actual_best_params, random_state=42)"
      ]
    },
    {
      "cell_type": "code",
      "execution_count": null,
      "id": "b305eaac",
      "metadata": {
        "id": "b305eaac",
        "outputId": "ea370a9d-fcb4-42f6-f403-ae955da10784"
      },
      "outputs": [
        {
          "data": {
            "text/html": [
              "<style>#sk-container-id-24 {\n",
              "  /* Definition of color scheme common for light and dark mode */\n",
              "  --sklearn-color-text: black;\n",
              "  --sklearn-color-line: gray;\n",
              "  /* Definition of color scheme for unfitted estimators */\n",
              "  --sklearn-color-unfitted-level-0: #fff5e6;\n",
              "  --sklearn-color-unfitted-level-1: #f6e4d2;\n",
              "  --sklearn-color-unfitted-level-2: #ffe0b3;\n",
              "  --sklearn-color-unfitted-level-3: chocolate;\n",
              "  /* Definition of color scheme for fitted estimators */\n",
              "  --sklearn-color-fitted-level-0: #f0f8ff;\n",
              "  --sklearn-color-fitted-level-1: #d4ebff;\n",
              "  --sklearn-color-fitted-level-2: #b3dbfd;\n",
              "  --sklearn-color-fitted-level-3: cornflowerblue;\n",
              "\n",
              "  /* Specific color for light theme */\n",
              "  --sklearn-color-text-on-default-background: var(--sg-text-color, var(--theme-code-foreground, var(--jp-content-font-color1, black)));\n",
              "  --sklearn-color-background: var(--sg-background-color, var(--theme-background, var(--jp-layout-color0, white)));\n",
              "  --sklearn-color-border-box: var(--sg-text-color, var(--theme-code-foreground, var(--jp-content-font-color1, black)));\n",
              "  --sklearn-color-icon: #696969;\n",
              "\n",
              "  @media (prefers-color-scheme: dark) {\n",
              "    /* Redefinition of color scheme for dark theme */\n",
              "    --sklearn-color-text-on-default-background: var(--sg-text-color, var(--theme-code-foreground, var(--jp-content-font-color1, white)));\n",
              "    --sklearn-color-background: var(--sg-background-color, var(--theme-background, var(--jp-layout-color0, #111)));\n",
              "    --sklearn-color-border-box: var(--sg-text-color, var(--theme-code-foreground, var(--jp-content-font-color1, white)));\n",
              "    --sklearn-color-icon: #878787;\n",
              "  }\n",
              "}\n",
              "\n",
              "#sk-container-id-24 {\n",
              "  color: var(--sklearn-color-text);\n",
              "}\n",
              "\n",
              "#sk-container-id-24 pre {\n",
              "  padding: 0;\n",
              "}\n",
              "\n",
              "#sk-container-id-24 input.sk-hidden--visually {\n",
              "  border: 0;\n",
              "  clip: rect(1px 1px 1px 1px);\n",
              "  clip: rect(1px, 1px, 1px, 1px);\n",
              "  height: 1px;\n",
              "  margin: -1px;\n",
              "  overflow: hidden;\n",
              "  padding: 0;\n",
              "  position: absolute;\n",
              "  width: 1px;\n",
              "}\n",
              "\n",
              "#sk-container-id-24 div.sk-dashed-wrapped {\n",
              "  border: 1px dashed var(--sklearn-color-line);\n",
              "  margin: 0 0.4em 0.5em 0.4em;\n",
              "  box-sizing: border-box;\n",
              "  padding-bottom: 0.4em;\n",
              "  background-color: var(--sklearn-color-background);\n",
              "}\n",
              "\n",
              "#sk-container-id-24 div.sk-container {\n",
              "  /* jupyter's `normalize.less` sets `[hidden] { display: none; }`\n",
              "     but bootstrap.min.css set `[hidden] { display: none !important; }`\n",
              "     so we also need the `!important` here to be able to override the\n",
              "     default hidden behavior on the sphinx rendered scikit-learn.org.\n",
              "     See: https://github.com/scikit-learn/scikit-learn/issues/21755 */\n",
              "  display: inline-block !important;\n",
              "  position: relative;\n",
              "}\n",
              "\n",
              "#sk-container-id-24 div.sk-text-repr-fallback {\n",
              "  display: none;\n",
              "}\n",
              "\n",
              "div.sk-parallel-item,\n",
              "div.sk-serial,\n",
              "div.sk-item {\n",
              "  /* draw centered vertical line to link estimators */\n",
              "  background-image: linear-gradient(var(--sklearn-color-text-on-default-background), var(--sklearn-color-text-on-default-background));\n",
              "  background-size: 2px 100%;\n",
              "  background-repeat: no-repeat;\n",
              "  background-position: center center;\n",
              "}\n",
              "\n",
              "/* Parallel-specific style estimator block */\n",
              "\n",
              "#sk-container-id-24 div.sk-parallel-item::after {\n",
              "  content: \"\";\n",
              "  width: 100%;\n",
              "  border-bottom: 2px solid var(--sklearn-color-text-on-default-background);\n",
              "  flex-grow: 1;\n",
              "}\n",
              "\n",
              "#sk-container-id-24 div.sk-parallel {\n",
              "  display: flex;\n",
              "  align-items: stretch;\n",
              "  justify-content: center;\n",
              "  background-color: var(--sklearn-color-background);\n",
              "  position: relative;\n",
              "}\n",
              "\n",
              "#sk-container-id-24 div.sk-parallel-item {\n",
              "  display: flex;\n",
              "  flex-direction: column;\n",
              "}\n",
              "\n",
              "#sk-container-id-24 div.sk-parallel-item:first-child::after {\n",
              "  align-self: flex-end;\n",
              "  width: 50%;\n",
              "}\n",
              "\n",
              "#sk-container-id-24 div.sk-parallel-item:last-child::after {\n",
              "  align-self: flex-start;\n",
              "  width: 50%;\n",
              "}\n",
              "\n",
              "#sk-container-id-24 div.sk-parallel-item:only-child::after {\n",
              "  width: 0;\n",
              "}\n",
              "\n",
              "/* Serial-specific style estimator block */\n",
              "\n",
              "#sk-container-id-24 div.sk-serial {\n",
              "  display: flex;\n",
              "  flex-direction: column;\n",
              "  align-items: center;\n",
              "  background-color: var(--sklearn-color-background);\n",
              "  padding-right: 1em;\n",
              "  padding-left: 1em;\n",
              "}\n",
              "\n",
              "\n",
              "/* Toggleable style: style used for estimator/Pipeline/ColumnTransformer box that is\n",
              "clickable and can be expanded/collapsed.\n",
              "- Pipeline and ColumnTransformer use this feature and define the default style\n",
              "- Estimators will overwrite some part of the style using the `sk-estimator` class\n",
              "*/\n",
              "\n",
              "/* Pipeline and ColumnTransformer style (default) */\n",
              "\n",
              "#sk-container-id-24 div.sk-toggleable {\n",
              "  /* Default theme specific background. It is overwritten whether we have a\n",
              "  specific estimator or a Pipeline/ColumnTransformer */\n",
              "  background-color: var(--sklearn-color-background);\n",
              "}\n",
              "\n",
              "/* Toggleable label */\n",
              "#sk-container-id-24 label.sk-toggleable__label {\n",
              "  cursor: pointer;\n",
              "  display: block;\n",
              "  width: 100%;\n",
              "  margin-bottom: 0;\n",
              "  padding: 0.5em;\n",
              "  box-sizing: border-box;\n",
              "  text-align: center;\n",
              "}\n",
              "\n",
              "#sk-container-id-24 label.sk-toggleable__label-arrow:before {\n",
              "  /* Arrow on the left of the label */\n",
              "  content: \"▸\";\n",
              "  float: left;\n",
              "  margin-right: 0.25em;\n",
              "  color: var(--sklearn-color-icon);\n",
              "}\n",
              "\n",
              "#sk-container-id-24 label.sk-toggleable__label-arrow:hover:before {\n",
              "  color: var(--sklearn-color-text);\n",
              "}\n",
              "\n",
              "/* Toggleable content - dropdown */\n",
              "\n",
              "#sk-container-id-24 div.sk-toggleable__content {\n",
              "  max-height: 0;\n",
              "  max-width: 0;\n",
              "  overflow: hidden;\n",
              "  text-align: left;\n",
              "  /* unfitted */\n",
              "  background-color: var(--sklearn-color-unfitted-level-0);\n",
              "}\n",
              "\n",
              "#sk-container-id-24 div.sk-toggleable__content.fitted {\n",
              "  /* fitted */\n",
              "  background-color: var(--sklearn-color-fitted-level-0);\n",
              "}\n",
              "\n",
              "#sk-container-id-24 div.sk-toggleable__content pre {\n",
              "  margin: 0.2em;\n",
              "  border-radius: 0.25em;\n",
              "  color: var(--sklearn-color-text);\n",
              "  /* unfitted */\n",
              "  background-color: var(--sklearn-color-unfitted-level-0);\n",
              "}\n",
              "\n",
              "#sk-container-id-24 div.sk-toggleable__content.fitted pre {\n",
              "  /* unfitted */\n",
              "  background-color: var(--sklearn-color-fitted-level-0);\n",
              "}\n",
              "\n",
              "#sk-container-id-24 input.sk-toggleable__control:checked~div.sk-toggleable__content {\n",
              "  /* Expand drop-down */\n",
              "  max-height: 200px;\n",
              "  max-width: 100%;\n",
              "  overflow: auto;\n",
              "}\n",
              "\n",
              "#sk-container-id-24 input.sk-toggleable__control:checked~label.sk-toggleable__label-arrow:before {\n",
              "  content: \"▾\";\n",
              "}\n",
              "\n",
              "/* Pipeline/ColumnTransformer-specific style */\n",
              "\n",
              "#sk-container-id-24 div.sk-label input.sk-toggleable__control:checked~label.sk-toggleable__label {\n",
              "  color: var(--sklearn-color-text);\n",
              "  background-color: var(--sklearn-color-unfitted-level-2);\n",
              "}\n",
              "\n",
              "#sk-container-id-24 div.sk-label.fitted input.sk-toggleable__control:checked~label.sk-toggleable__label {\n",
              "  background-color: var(--sklearn-color-fitted-level-2);\n",
              "}\n",
              "\n",
              "/* Estimator-specific style */\n",
              "\n",
              "/* Colorize estimator box */\n",
              "#sk-container-id-24 div.sk-estimator input.sk-toggleable__control:checked~label.sk-toggleable__label {\n",
              "  /* unfitted */\n",
              "  background-color: var(--sklearn-color-unfitted-level-2);\n",
              "}\n",
              "\n",
              "#sk-container-id-24 div.sk-estimator.fitted input.sk-toggleable__control:checked~label.sk-toggleable__label {\n",
              "  /* fitted */\n",
              "  background-color: var(--sklearn-color-fitted-level-2);\n",
              "}\n",
              "\n",
              "#sk-container-id-24 div.sk-label label.sk-toggleable__label,\n",
              "#sk-container-id-24 div.sk-label label {\n",
              "  /* The background is the default theme color */\n",
              "  color: var(--sklearn-color-text-on-default-background);\n",
              "}\n",
              "\n",
              "/* On hover, darken the color of the background */\n",
              "#sk-container-id-24 div.sk-label:hover label.sk-toggleable__label {\n",
              "  color: var(--sklearn-color-text);\n",
              "  background-color: var(--sklearn-color-unfitted-level-2);\n",
              "}\n",
              "\n",
              "/* Label box, darken color on hover, fitted */\n",
              "#sk-container-id-24 div.sk-label.fitted:hover label.sk-toggleable__label.fitted {\n",
              "  color: var(--sklearn-color-text);\n",
              "  background-color: var(--sklearn-color-fitted-level-2);\n",
              "}\n",
              "\n",
              "/* Estimator label */\n",
              "\n",
              "#sk-container-id-24 div.sk-label label {\n",
              "  font-family: monospace;\n",
              "  font-weight: bold;\n",
              "  display: inline-block;\n",
              "  line-height: 1.2em;\n",
              "}\n",
              "\n",
              "#sk-container-id-24 div.sk-label-container {\n",
              "  text-align: center;\n",
              "}\n",
              "\n",
              "/* Estimator-specific */\n",
              "#sk-container-id-24 div.sk-estimator {\n",
              "  font-family: monospace;\n",
              "  border: 1px dotted var(--sklearn-color-border-box);\n",
              "  border-radius: 0.25em;\n",
              "  box-sizing: border-box;\n",
              "  margin-bottom: 0.5em;\n",
              "  /* unfitted */\n",
              "  background-color: var(--sklearn-color-unfitted-level-0);\n",
              "}\n",
              "\n",
              "#sk-container-id-24 div.sk-estimator.fitted {\n",
              "  /* fitted */\n",
              "  background-color: var(--sklearn-color-fitted-level-0);\n",
              "}\n",
              "\n",
              "/* on hover */\n",
              "#sk-container-id-24 div.sk-estimator:hover {\n",
              "  /* unfitted */\n",
              "  background-color: var(--sklearn-color-unfitted-level-2);\n",
              "}\n",
              "\n",
              "#sk-container-id-24 div.sk-estimator.fitted:hover {\n",
              "  /* fitted */\n",
              "  background-color: var(--sklearn-color-fitted-level-2);\n",
              "}\n",
              "\n",
              "/* Specification for estimator info (e.g. \"i\" and \"?\") */\n",
              "\n",
              "/* Common style for \"i\" and \"?\" */\n",
              "\n",
              ".sk-estimator-doc-link,\n",
              "a:link.sk-estimator-doc-link,\n",
              "a:visited.sk-estimator-doc-link {\n",
              "  float: right;\n",
              "  font-size: smaller;\n",
              "  line-height: 1em;\n",
              "  font-family: monospace;\n",
              "  background-color: var(--sklearn-color-background);\n",
              "  border-radius: 1em;\n",
              "  height: 1em;\n",
              "  width: 1em;\n",
              "  text-decoration: none !important;\n",
              "  margin-left: 1ex;\n",
              "  /* unfitted */\n",
              "  border: var(--sklearn-color-unfitted-level-1) 1pt solid;\n",
              "  color: var(--sklearn-color-unfitted-level-1);\n",
              "}\n",
              "\n",
              ".sk-estimator-doc-link.fitted,\n",
              "a:link.sk-estimator-doc-link.fitted,\n",
              "a:visited.sk-estimator-doc-link.fitted {\n",
              "  /* fitted */\n",
              "  border: var(--sklearn-color-fitted-level-1) 1pt solid;\n",
              "  color: var(--sklearn-color-fitted-level-1);\n",
              "}\n",
              "\n",
              "/* On hover */\n",
              "div.sk-estimator:hover .sk-estimator-doc-link:hover,\n",
              ".sk-estimator-doc-link:hover,\n",
              "div.sk-label-container:hover .sk-estimator-doc-link:hover,\n",
              ".sk-estimator-doc-link:hover {\n",
              "  /* unfitted */\n",
              "  background-color: var(--sklearn-color-unfitted-level-3);\n",
              "  color: var(--sklearn-color-background);\n",
              "  text-decoration: none;\n",
              "}\n",
              "\n",
              "div.sk-estimator.fitted:hover .sk-estimator-doc-link.fitted:hover,\n",
              ".sk-estimator-doc-link.fitted:hover,\n",
              "div.sk-label-container:hover .sk-estimator-doc-link.fitted:hover,\n",
              ".sk-estimator-doc-link.fitted:hover {\n",
              "  /* fitted */\n",
              "  background-color: var(--sklearn-color-fitted-level-3);\n",
              "  color: var(--sklearn-color-background);\n",
              "  text-decoration: none;\n",
              "}\n",
              "\n",
              "/* Span, style for the box shown on hovering the info icon */\n",
              ".sk-estimator-doc-link span {\n",
              "  display: none;\n",
              "  z-index: 9999;\n",
              "  position: relative;\n",
              "  font-weight: normal;\n",
              "  right: .2ex;\n",
              "  padding: .5ex;\n",
              "  margin: .5ex;\n",
              "  width: min-content;\n",
              "  min-width: 20ex;\n",
              "  max-width: 50ex;\n",
              "  color: var(--sklearn-color-text);\n",
              "  box-shadow: 2pt 2pt 4pt #999;\n",
              "  /* unfitted */\n",
              "  background: var(--sklearn-color-unfitted-level-0);\n",
              "  border: .5pt solid var(--sklearn-color-unfitted-level-3);\n",
              "}\n",
              "\n",
              ".sk-estimator-doc-link.fitted span {\n",
              "  /* fitted */\n",
              "  background: var(--sklearn-color-fitted-level-0);\n",
              "  border: var(--sklearn-color-fitted-level-3);\n",
              "}\n",
              "\n",
              ".sk-estimator-doc-link:hover span {\n",
              "  display: block;\n",
              "}\n",
              "\n",
              "/* \"?\"-specific style due to the `<a>` HTML tag */\n",
              "\n",
              "#sk-container-id-24 a.estimator_doc_link {\n",
              "  float: right;\n",
              "  font-size: 1rem;\n",
              "  line-height: 1em;\n",
              "  font-family: monospace;\n",
              "  background-color: var(--sklearn-color-background);\n",
              "  border-radius: 1rem;\n",
              "  height: 1rem;\n",
              "  width: 1rem;\n",
              "  text-decoration: none;\n",
              "  /* unfitted */\n",
              "  color: var(--sklearn-color-unfitted-level-1);\n",
              "  border: var(--sklearn-color-unfitted-level-1) 1pt solid;\n",
              "}\n",
              "\n",
              "#sk-container-id-24 a.estimator_doc_link.fitted {\n",
              "  /* fitted */\n",
              "  border: var(--sklearn-color-fitted-level-1) 1pt solid;\n",
              "  color: var(--sklearn-color-fitted-level-1);\n",
              "}\n",
              "\n",
              "/* On hover */\n",
              "#sk-container-id-24 a.estimator_doc_link:hover {\n",
              "  /* unfitted */\n",
              "  background-color: var(--sklearn-color-unfitted-level-3);\n",
              "  color: var(--sklearn-color-background);\n",
              "  text-decoration: none;\n",
              "}\n",
              "\n",
              "#sk-container-id-24 a.estimator_doc_link.fitted:hover {\n",
              "  /* fitted */\n",
              "  background-color: var(--sklearn-color-fitted-level-3);\n",
              "}\n",
              "</style><div id=\"sk-container-id-24\" class=\"sk-top-container\"><div class=\"sk-text-repr-fallback\"><pre>XGBClassifier(base_score=None, booster=None, callbacks=None,\n",
              "              colsample_bylevel=None, colsample_bynode=None,\n",
              "              colsample_bytree=0.7012626211318509, device=None,\n",
              "              early_stopping_rounds=None, enable_categorical=False,\n",
              "              eval_metric=None, feature_types=None, gamma=0.18491071141285537,\n",
              "              grow_policy=None, importance_type=None,\n",
              "              interaction_constraints=None, learning_rate=0.15328063590185478,\n",
              "              max_bin=None, max_cat_threshold=None, max_cat_to_onehot=None,\n",
              "              max_delta_step=None, max_depth=3, max_leaves=None,\n",
              "              min_child_weight=4.0, missing=nan, monotone_constraints=None,\n",
              "              multi_strategy=None, n_estimators=700, n_jobs=None, num_class=3,\n",
              "              num_parallel_tree=None, ...)</pre><b>In a Jupyter environment, please rerun this cell to show the HTML representation or trust the notebook. <br />On GitHub, the HTML representation is unable to render, please try loading this page with nbviewer.org.</b></div><div class=\"sk-container\" hidden><div class=\"sk-item\"><div class=\"sk-estimator fitted sk-toggleable\"><input class=\"sk-toggleable__control sk-hidden--visually\" id=\"sk-estimator-id-24\" type=\"checkbox\" checked><label for=\"sk-estimator-id-24\" class=\"sk-toggleable__label fitted sk-toggleable__label-arrow fitted\">&nbsp;XGBClassifier<span class=\"sk-estimator-doc-link fitted\">i<span>Fitted</span></span></label><div class=\"sk-toggleable__content fitted\"><pre>XGBClassifier(base_score=None, booster=None, callbacks=None,\n",
              "              colsample_bylevel=None, colsample_bynode=None,\n",
              "              colsample_bytree=0.7012626211318509, device=None,\n",
              "              early_stopping_rounds=None, enable_categorical=False,\n",
              "              eval_metric=None, feature_types=None, gamma=0.18491071141285537,\n",
              "              grow_policy=None, importance_type=None,\n",
              "              interaction_constraints=None, learning_rate=0.15328063590185478,\n",
              "              max_bin=None, max_cat_threshold=None, max_cat_to_onehot=None,\n",
              "              max_delta_step=None, max_depth=3, max_leaves=None,\n",
              "              min_child_weight=4.0, missing=nan, monotone_constraints=None,\n",
              "              multi_strategy=None, n_estimators=700, n_jobs=None, num_class=3,\n",
              "              num_parallel_tree=None, ...)</pre></div> </div></div></div></div>"
            ],
            "text/plain": [
              "XGBClassifier(base_score=None, booster=None, callbacks=None,\n",
              "              colsample_bylevel=None, colsample_bynode=None,\n",
              "              colsample_bytree=0.7012626211318509, device=None,\n",
              "              early_stopping_rounds=None, enable_categorical=False,\n",
              "              eval_metric=None, feature_types=None, gamma=0.18491071141285537,\n",
              "              grow_policy=None, importance_type=None,\n",
              "              interaction_constraints=None, learning_rate=0.15328063590185478,\n",
              "              max_bin=None, max_cat_threshold=None, max_cat_to_onehot=None,\n",
              "              max_delta_step=None, max_depth=3, max_leaves=None,\n",
              "              min_child_weight=4.0, missing=nan, monotone_constraints=None,\n",
              "              multi_strategy=None, n_estimators=700, n_jobs=None, num_class=3,\n",
              "              num_parallel_tree=None, ...)"
            ]
          },
          "execution_count": 411,
          "metadata": {},
          "output_type": "execute_result"
        }
      ],
      "source": [
        "\n",
        "\n",
        "# Fit the model using the training set and evaluate it using the validation set\n",
        "classifier_1.fit(X_train, y_train)"
      ]
    },
    {
      "cell_type": "markdown",
      "id": "5628c136",
      "metadata": {
        "id": "5628c136"
      },
      "source": [
        "### Make Predictions"
      ]
    },
    {
      "cell_type": "code",
      "execution_count": null,
      "id": "3da9e370-5826-4e78-a188-dbc8a72d99bc",
      "metadata": {
        "id": "3da9e370-5826-4e78-a188-dbc8a72d99bc"
      },
      "outputs": [],
      "source": [
        "# Calculate accuracy scores\n",
        "train_accuracy = accuracy_score(y_train, classifier_1.predict(X_train))\n",
        "test_accuracy = accuracy_score(y_test, classifier_1.predict(X_test))"
      ]
    },
    {
      "cell_type": "code",
      "execution_count": null,
      "id": "932cbc5c-d521-4b4c-bfe6-8103a32e33eb",
      "metadata": {
        "id": "932cbc5c-d521-4b4c-bfe6-8103a32e33eb"
      },
      "outputs": [],
      "source": [
        "# Calculate precision scores\n",
        "precision_scores_train = precision_score(y_train, classifier_1.predict(X_train), average=None)\n",
        "precision_scores_test = precision_score(y_test, classifier_1.predict(X_test), average=None)"
      ]
    },
    {
      "cell_type": "code",
      "execution_count": null,
      "id": "2f3fa3d9-c7f3-44fe-9e11-93ef36882745",
      "metadata": {
        "id": "2f3fa3d9-c7f3-44fe-9e11-93ef36882745",
        "outputId": "d7a73378-afbe-4db7-cc75-6075cdf0e4c1"
      },
      "outputs": [
        {
          "name": "stdout",
          "output_type": "stream",
          "text": [
            "TRAIN:\n",
            "Accuracy: 0.9507669920572364\n",
            "Precision Scores: [0.92469001 0.9652333  0.96230159]\n",
            "TEST:\n",
            "Accuracy: 0.8274154760220682\n",
            "Precision Scores: [0.71299094 0.88589685 0.9058296 ]\n"
          ]
        }
      ],
      "source": [
        "# Output the results\n",
        "print(\"TRAIN:\")\n",
        "print(\"Accuracy:\", train_accuracy)\n",
        "print(\"Precision Scores:\", precision_scores_train)\n",
        "\n",
        "print(\"TEST:\")\n",
        "print(\"Accuracy:\", test_accuracy)\n",
        "print(\"Precision Scores:\", precision_scores_test)"
      ]
    },
    {
      "cell_type": "markdown",
      "id": "0edb2641-2a32-4853-b025-3ac3697a9de3",
      "metadata": {
        "id": "0edb2641-2a32-4853-b025-3ac3697a9de3"
      },
      "source": [
        "EVAL COMPAR"
      ]
    },
    {
      "cell_type": "code",
      "execution_count": null,
      "id": "7ae05a1f-5eeb-4b8b-8f46-5a6210fc5ea7",
      "metadata": {
        "id": "7ae05a1f-5eeb-4b8b-8f46-5a6210fc5ea7"
      },
      "outputs": [],
      "source": [
        "# Make predictions on the test set\n",
        "y_pred = classifier_1.predict(X_test)"
      ]
    },
    {
      "cell_type": "code",
      "execution_count": null,
      "id": "79b14efe-b989-4b89-a502-53097c834d8a",
      "metadata": {
        "id": "79b14efe-b989-4b89-a502-53097c834d8a"
      },
      "outputs": [],
      "source": [
        "# Calculate the classification report\n",
        "report = classification_report(y_test, y_pred)\n"
      ]
    },
    {
      "cell_type": "code",
      "execution_count": null,
      "id": "0e5c1436-13c6-4984-90bc-9e253a2f2c15",
      "metadata": {
        "id": "0e5c1436-13c6-4984-90bc-9e253a2f2c15",
        "outputId": "9d728256-4dbe-4c92-a772-300761471d85"
      },
      "outputs": [
        {
          "name": "stdout",
          "output_type": "stream",
          "text": [
            "Classification Report:\n",
            "              precision    recall  f1-score   support\n",
            "\n",
            "           0       0.71      0.81      0.76      2340\n",
            "           1       0.89      0.84      0.86      2314\n",
            "           2       0.91      0.84      0.87      2415\n",
            "\n",
            "    accuracy                           0.83      7069\n",
            "   macro avg       0.83      0.83      0.83      7069\n",
            "weighted avg       0.84      0.83      0.83      7069\n",
            "\n"
          ]
        }
      ],
      "source": [
        "print('Classification Report:')\n",
        "print(report)"
      ]
    },
    {
      "cell_type": "markdown",
      "id": "68f615be-8c22-4c87-a602-c244023f7769",
      "metadata": {
        "id": "68f615be-8c22-4c87-a602-c244023f7769"
      },
      "source": [
        "SUMMARY"
      ]
    },
    {
      "cell_type": "code",
      "execution_count": null,
      "id": "7f7c2dd1-420e-4bbb-ad1b-28e2bb12d372",
      "metadata": {
        "id": "7f7c2dd1-420e-4bbb-ad1b-28e2bb12d372",
        "outputId": "b7314913-02c9-48bd-fcc0-29392b441bea"
      },
      "outputs": [
        {
          "ename": "SyntaxError",
          "evalue": "invalid syntax (1435892540.py, line 1)",
          "output_type": "error",
          "traceback": [
            "\u001b[1;36m  Cell \u001b[1;32mIn[418], line 1\u001b[1;36m\u001b[0m\n\u001b[1;33m    confusion matrix\u001b[0m\n\u001b[1;37m              ^\u001b[0m\n\u001b[1;31mSyntaxError\u001b[0m\u001b[1;31m:\u001b[0m invalid syntax\n"
          ]
        }
      ],
      "source": [
        "confusion matrix"
      ]
    },
    {
      "cell_type": "code",
      "execution_count": null,
      "id": "6c42cb28-3bd2-4aa5-9a9d-5807d1fd88f5",
      "metadata": {
        "id": "6c42cb28-3bd2-4aa5-9a9d-5807d1fd88f5",
        "outputId": "2093e9b6-b2ee-42d9-bde2-a74ed0917a18"
      },
      "outputs": [
        {
          "data": {
            "image/png": "[encoded data removed]",
            "text/plain": [
              "<Figure size 1000x1000 with 2 Axes>"
            ]
          },
          "metadata": {},
          "output_type": "display_data"
        }
      ],
      "source": [
        "from sklearn.metrics import confusion_matrix, ConfusionMatrixDisplay\n",
        "import matplotlib.pyplot as plt\n",
        "\n",
        "# Assuming y_test and y_pred are already defined\n",
        "cm = confusion_matrix(y_test, y_pred)\n",
        "fig, ax = plt.subplots(figsize=(10, 10))  # Increase figure size for better visibility\n",
        "ConfusionMatrixDisplay(cm).plot(ax=ax, cmap='Blues')\n",
        "\n",
        "# Scale up the labels and title\n",
        "LABEL_FONT_SIZE = 16\n",
        "TITLE_FONT_SIZE = 18\n",
        "\n",
        "ax.set_xlabel('Predicted labels', fontsize=LABEL_FONT_SIZE)\n",
        "ax.set_ylabel('True labels', fontsize=LABEL_FONT_SIZE)\n",
        "ax.set_title('Confusion Matrix - XGBOOST', fontsize=TITLE_FONT_SIZE)\n",
        "\n",
        "# Scale up the numbers inside the confusion matrix\n",
        "for text in ax.texts:\n",
        "    text.set_fontsize(LABEL_FONT_SIZE)\n",
        "\n",
        "plt.show()"
      ]
    },
    {
      "cell_type": "code",
      "execution_count": null,
      "id": "62a951a8-00b6-413c-87af-3cab67972090",
      "metadata": {
        "id": "62a951a8-00b6-413c-87af-3cab67972090",
        "outputId": "34147d0a-b38c-40e1-b820-a6eb33ab5521"
      },
      "outputs": [
        {
          "data": {
            "image/png": "[encoded data removed]",
            "text/plain": [
              "<Figure size 1200x1000 with 1 Axes>"
            ]
          },
          "metadata": {},
          "output_type": "display_data"
        },
        {
          "name": "stdout",
          "output_type": "stream",
          "text": [
            "Micro-average AUC: 0.96\n"
          ]
        }
      ],
      "source": [
        "from sklearn.metrics import roc_curve, auc, roc_auc_score\n",
        "from sklearn.preprocessing import label_binarize\n",
        "import numpy as np\n",
        "\n",
        "# Binarize the output\n",
        "y_test_binarized = label_binarize(y_test, classes=np.unique(y_train))\n",
        "y_pred_proba = classifier_1.predict_proba(X_test)\n",
        "\n",
        "# Compute ROC curve and ROC area for each class\n",
        "n_classes = y_test_binarized.shape[1]\n",
        "fpr = dict()\n",
        "tpr = dict()\n",
        "roc_auc = dict()\n",
        "\n",
        "for i in range(n_classes):\n",
        "    fpr[i], tpr[i], _ = roc_curve(y_test_binarized[:, i], y_pred_proba[:, i])\n",
        "    roc_auc[i] = auc(fpr[i], tpr[i])\n",
        "\n",
        "# Set the figure size and plot the ROC curves with scaled up features\n",
        "plt.figure(figsize=(12, 10))\n",
        "\n",
        "# Set larger font sizes and line widths\n",
        "LINE_WIDTH = 3\n",
        "FONT_SIZE = 16\n",
        "LEGEND_SIZE = 14\n",
        "\n",
        "for i in range(n_classes):\n",
        "    plt.plot(fpr[i], tpr[i], linewidth=LINE_WIDTH, label=f'Class {i} (area = {roc_auc[i]:.2f})')\n",
        "\n",
        "plt.plot([0, 1], [0, 1], 'k--', linewidth=LINE_WIDTH)\n",
        "\n",
        "# Set the labels and title with increased font sizes\n",
        "plt.xlabel('False Positive Rate', fontsize=FONT_SIZE)\n",
        "plt.ylabel('True Positive Rate', fontsize=FONT_SIZE)\n",
        "plt.title('Receiver Operating Characteristic (ROC) Curves', fontsize=FONT_SIZE + 2)\n",
        "\n",
        "# Set the tick parameters for axes\n",
        "plt.xticks(fontsize=FONT_SIZE)\n",
        "plt.yticks(fontsize=FONT_SIZE)\n",
        "\n",
        "# Set the legend with an increased font size\n",
        "plt.legend(loc=\"lower right\", fontsize=LEGEND_SIZE)\n",
        "\n",
        "# Show the plot with adjusted settings\n",
        "plt.show()\n",
        "\n",
        "# Compute micro-average ROC curve and ROC area\n",
        "fpr[\"micro\"], tpr[\"micro\"], _ = roc_curve(y_test_binarized.ravel(), y_pred_proba.ravel())\n",
        "roc_auc[\"micro\"] = auc(fpr[\"micro\"], tpr[\"micro\"])\n",
        "\n",
        "print(f'Micro-average AUC: {roc_auc[\"micro\"]:.2f}')"
      ]
    },
    {
      "cell_type": "code",
      "execution_count": null,
      "id": "5563a922-a11c-47d1-aa95-0498fefc2ae6",
      "metadata": {
        "id": "5563a922-a11c-47d1-aa95-0498fefc2ae6"
      },
      "outputs": [],
      "source": [
        "# Assuming test_yhat is your NumPy array\n",
        "df_signal = pd.DataFrame(test_yhat, columns=['signal'])"
      ]
    },
    {
      "cell_type": "code",
      "execution_count": null,
      "id": "097a8ab7-a0ba-485e-92ef-f64663884e66",
      "metadata": {
        "id": "097a8ab7-a0ba-485e-92ef-f64663884e66"
      },
      "outputs": [],
      "source": [
        "# Save the DataFrame to a CSV file\n",
        "df_signal.to_csv('signal_multiclass.csv', index=False)"
      ]
    },
    {
      "cell_type": "code",
      "execution_count": null,
      "id": "3157fd5b-1649-4cc2-ad38-59ac16e41dab",
      "metadata": {
        "id": "3157fd5b-1649-4cc2-ad38-59ac16e41dab"
      },
      "outputs": [],
      "source": []
    }
  ],
  "metadata": {
    "kernelspec": {
      "display_name": "Python 3 (ipykernel)",
      "language": "python",
      "name": "python3"
    },
    "language_info": {
      "codemirror_mode": {
        "name": "ipython",
        "version": 3
      },
      "file_extension": ".py",
      "mimetype": "text/x-python",
      "name": "python",
      "nbconvert_exporter": "python",
      "pygments_lexer": "ipython3",
      "version": "3.11.8"
    },
    "colab": {
      "provenance": []
    }
  },
  "nbformat": 4,
  "nbformat_minor": 5
}