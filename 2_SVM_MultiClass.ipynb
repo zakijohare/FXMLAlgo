{
  "cells": [
    {
      "cell_type": "markdown",
      "id": "0bd7552b",
      "metadata": {
        "id": "0bd7552b"
      },
      "source": [
        "### Imports"
      ]
    },
    {
      "cell_type": "code",
      "execution_count": null,
      "id": "cff7306c",
      "metadata": {
        "id": "cff7306c"
      },
      "outputs": [],
      "source": [
        "# Remove Future Warnings\n",
        "import warnings\n",
        "warnings.simplefilter(action='ignore', category=FutureWarning)\n",
        "\n",
        "# General\n",
        "import numpy as np\n",
        "import os\n",
        "\n",
        "# Data Management\n",
        "import pandas as pd\n",
        "from sklearn.model_selection import train_test_split\n",
        "\n",
        "# Optimisation\n",
        "from hyperopt import hp, fmin, tpe, STATUS_OK, Trials, space_eval\n",
        "from sklearn.model_selection import cross_val_score, TimeSeriesSplit\n",
        "\n",
        "# Machine LearninG\n",
        "import xgboost\n",
        "from xgboost import XGBClassifier\n",
        "from sklearn.model_selection import RandomizedSearchCV, cross_val_score\n",
        "from sklearn.model_selection import RepeatedStratifiedKFold\n",
        "from sklearn.metrics import log_loss\n",
        "from sklearn.svm import SVC\n",
        "\n",
        "# Evaluation\n",
        "# General Metrics\n",
        "from sklearn.metrics import accuracy_score\n",
        "from sklearn.metrics import classification_report\n",
        "from sklearn.metrics import precision_score\n",
        "from sklearn.metrics import confusion_matrix\n",
        "from sklearn.metrics import ConfusionMatrixDisplay\n",
        "from sklearn.metrics import make_scorer\n",
        "\n",
        "# Reporting\n",
        "import matplotlib.pyplot as plt\n"
      ]
    },
    {
      "cell_type": "markdown",
      "id": "ba052341",
      "metadata": {
        "id": "ba052341"
      },
      "source": [
        "### Import Preprocessed Data"
      ]
    },
    {
      "cell_type": "code",
      "execution_count": null,
      "id": "86261e69-02af-456e-899d-8f1888fdbb5b",
      "metadata": {
        "id": "86261e69-02af-456e-899d-8f1888fdbb5b"
      },
      "outputs": [],
      "source": [
        "# Construct the file path\n",
        "file_path = os.path.join('Data Augmented', 'XAU_USD_M15_AUGMENTED_MULTICLASS.pkl')\n",
        "\n",
        "# Load the dataset\n",
        "df = pd.read_pickle(file_path)"
      ]
    },
    {
      "cell_type": "code",
      "execution_count": null,
      "id": "964fff83-d56f-4c35-8179-893fb796f99b",
      "metadata": {
        "id": "964fff83-d56f-4c35-8179-893fb796f99b",
        "outputId": "d0ec6058-4296-41c5-d9ba-bba8cee26121"
      },
      "outputs": [
        {
          "name": "stdout",
          "output_type": "stream",
          "text": [
            "Shape of entire DataFrame:  (23562, 27)\n",
            "Shape of X:  (23562, 26)\n",
            "Shape of y:  (23562,)\n",
            "\n",
            "First 5 rows of features (X):\n",
            "       PC_0      PC_1      PC_2      PC_3      PC_4      PC_5      PC_6  \\\n",
            "0 -6.254425  2.829216 -4.891684 -2.845976  4.008486 -8.555140  5.862690   \n",
            "1 -3.850872  4.903726 -1.756492 -5.537689  2.208127 -4.524315  3.431820   \n",
            "2 -1.095318  5.893986 -0.804774 -5.597807  2.819885 -6.055102  5.503417   \n",
            "3  2.351989  7.265397  1.256356 -5.356025  4.113341 -6.214222  3.473383   \n",
            "4  0.294494  5.522330 -1.981066 -4.531020  2.242955 -5.241408  3.138588   \n",
            "\n",
            "        PC_7      PC_8      PC_9  ...     PC_16     PC_17      PC_18  \\\n",
            "0   7.165960  3.078656  3.506201  ...  3.422188 -2.717913 -14.004499   \n",
            "1  11.216646 -0.391129  3.273041  ...  2.816306 -1.706859 -10.416053   \n",
            "2   9.982037  1.918705  5.091947  ...  3.110125 -3.930625  -6.267588   \n",
            "3   9.101391  0.924793  5.216997  ...  2.856252 -0.231934 -13.271259   \n",
            "4  10.148424  0.734575  5.403931  ...  3.014510 -1.393204 -10.976878   \n",
            "\n",
            "       PC_19     PC_20     PC_21      PC_22     PC_23     PC_24     PC_25  \n",
            "0 -12.910195  4.145780 -0.423653  14.340557  6.488940  9.508588  2.280161  \n",
            "1 -13.386968  3.252920 -3.765224  12.848700  6.953216  7.329132  1.867486  \n",
            "2  -7.206640  3.664679 -1.927819  10.473616  5.333419  6.082357  1.470231  \n",
            "3 -16.413667  4.734509 -2.904687  13.437568  6.211813  6.376945  1.979798  \n",
            "4 -14.925050  3.772343 -2.560987  12.395841  6.239294  6.073382  1.937782  \n",
            "\n",
            "[5 rows x 26 columns]\n",
            "\n",
            "First 5 rows of target (y):\n",
            "0    0\n",
            "1    0\n",
            "2    2\n",
            "3    2\n",
            "4    0\n",
            "Name: signal, dtype: int64\n",
            "\n",
            "Type of X:  <class 'pandas.core.frame.DataFrame'>\n",
            "Type of y:  <class 'pandas.core.series.Series'>\n"
          ]
        }
      ],
      "source": [
        "# Assuming the last column is the target variable and the rest are features\n",
        "X = df.iloc[:, :-1]\n",
        "y = df.iloc[:, -1]\n",
        "\n",
        "# Now, let's perform some checks to ensure it worked\n",
        "print(\"Shape of entire DataFrame: \", df.shape)\n",
        "print(\"Shape of X: \", X.shape)\n",
        "print(\"Shape of y: \", y.shape)\n",
        "\n",
        "# Check the first few records to ensure the split looks correct\n",
        "print(\"\\nFirst 5 rows of features (X):\")\n",
        "print(X.head())\n",
        "print(\"\\nFirst 5 rows of target (y):\")\n",
        "print(y.head())\n",
        "\n",
        "# Check the types to confirm they are pandas DataFrames/Series\n",
        "print(\"\\nType of X: \", type(X))\n",
        "print(\"Type of y: \", type(y))\n"
      ]
    },
    {
      "cell_type": "markdown",
      "id": "333e09d6",
      "metadata": {
        "id": "333e09d6"
      },
      "source": [
        "### Train Test Split"
      ]
    },
    {
      "cell_type": "code",
      "execution_count": null,
      "id": "9bea03f0-61c4-45c9-afff-400ad7003150",
      "metadata": {
        "id": "9bea03f0-61c4-45c9-afff-400ad7003150"
      },
      "outputs": [],
      "source": [
        "# Assuming X and y are your features and labels respectively and they are already ordered sequentially\n",
        "dataset_size = len(X)\n",
        "train_size = int(dataset_size * 0.7)  # 70% of data for training\n",
        "\n",
        "# Split the dataset into training set and test set without shuffling\n",
        "X_train = X[:train_size]\n",
        "X_test = X[train_size:]\n",
        "y_train = y[:train_size]\n",
        "y_test = y[train_size:]"
      ]
    },
    {
      "cell_type": "code",
      "execution_count": null,
      "id": "487df500",
      "metadata": {
        "id": "487df500",
        "outputId": "8c93d8ab-039e-483b-93b5-6153aab1fb03"
      },
      "outputs": [
        {
          "name": "stdout",
          "output_type": "stream",
          "text": [
            "Shape of X_train:  (16493, 26)\n",
            "Shape of y_train:  (16493,)\n",
            "Shape of X_test:  (7069, 26)\n",
            "Shape of y_test:  (7069,)\n",
            "Size Matches:  True\n"
          ]
        }
      ],
      "source": [
        "size_check = len(y_test) + len(y_train) == len(X)\n",
        "print(\"Shape of X_train: \", X_train.shape)\n",
        "print(\"Shape of y_train: \", y_train.shape)\n",
        "print(\"Shape of X_test: \", X_test.shape)\n",
        "print(\"Shape of y_test: \", y_test.shape)\n",
        "print(\"Size Matches: \", size_check)"
      ]
    },
    {
      "cell_type": "markdown",
      "id": "3470201b",
      "metadata": {
        "id": "3470201b"
      },
      "source": [
        "### Build Initial Model"
      ]
    },
    {
      "cell_type": "code",
      "execution_count": null,
      "id": "43e0d22f",
      "metadata": {
        "id": "43e0d22f"
      },
      "outputs": [],
      "source": [
        "# Define the search space\n",
        "space = {\n",
        "    'C': hp.uniform('C', 0, 10),\n",
        "    'gamma': hp.uniform('gamma', 0.001, 1),\n",
        "    'kernel': hp.choice('kernel', ['linear', 'rbf']),\n",
        "    'class_weight': hp.choice('class_weight', [None, 'balanced'])\n",
        "}"
      ]
    },
    {
      "cell_type": "code",
      "execution_count": null,
      "id": "57789bc9-7421-4107-9039-65e978e15583",
      "metadata": {
        "id": "57789bc9-7421-4107-9039-65e978e15583",
        "outputId": "a0f7a56a-8465-4589-db5d-f08dff35b374"
      },
      "outputs": [
        {
          "name": "stdout",
          "output_type": "stream",
          "text": [
            "100%|██████████████████████████████████████████████████████| 30/30 [35:12<00:00, 70.43s/trial, best loss: -0.8541484716157207]\n"
          ]
        }
      ],
      "source": [
        "def objective(params):\n",
        "    # Use 'scale' for gamma if the kernel is not 'rbf'\n",
        "    gamma_value = params['gamma'] if params['kernel'] == 'rbf' else 'scale'\n",
        "\n",
        "    # Create the SVM model with the correct hyperparameters\n",
        "    svm_model = SVC(\n",
        "        C=params['C'],\n",
        "        kernel=params['kernel'],\n",
        "        gamma=gamma_value,\n",
        "        class_weight=params['class_weight'],\n",
        "        random_state=42\n",
        "    )\n",
        "\n",
        "    # Setup Time Series Cross-Validator\n",
        "    tscv = TimeSeriesSplit(n_splits=5)\n",
        "\n",
        "    # Calculate the cross-validation score\n",
        "    accuracy_scores = cross_val_score(svm_model, X_train, y_train, cv=tscv, scoring='accuracy')\n",
        "\n",
        "    # Our goal is to maximize accuracy, so we return it as a negative value for minimization\n",
        "    return {'loss': -np.mean(accuracy_scores), 'status': STATUS_OK}\n",
        "\n",
        "# Initialize the Trials object to keep track of results\n",
        "trials = Trials()\n",
        "\n",
        "# Run the optimization\n",
        "best = fmin(\n",
        "    fn=objective,\n",
        "    space=space,\n",
        "    algo=tpe.suggest,\n",
        "    max_evals=30,\n",
        "    trials=trials\n",
        ")\n",
        "\n",
        "# Use space_eval to get the best hyperparameters with correct values\n",
        "best_hyperparams = space_eval(space, best)"
      ]
    },
    {
      "cell_type": "code",
      "execution_count": null,
      "id": "4707f793-a2de-4e20-aac6-3008405601d7",
      "metadata": {
        "id": "4707f793-a2de-4e20-aac6-3008405601d7",
        "outputId": "57a23fe3-bb28-4961-8326-afcb37f2c417"
      },
      "outputs": [
        {
          "name": "stdout",
          "output_type": "stream",
          "text": [
            "{'C': 0.0846641411683473, 'class_weight': None, 'gamma': 0.6910992514168416, 'kernel': 'linear'}\n"
          ]
        }
      ],
      "source": [
        "print(best_hyperparams)"
      ]
    },
    {
      "cell_type": "markdown",
      "id": "167d9494",
      "metadata": {
        "id": "167d9494"
      },
      "source": [
        "### Train Model"
      ]
    },
    {
      "cell_type": "code",
      "execution_count": null,
      "id": "1c8ce9c7-88fa-4ac1-a411-a11474a8805d",
      "metadata": {
        "id": "1c8ce9c7-88fa-4ac1-a411-a11474a8805d"
      },
      "outputs": [],
      "source": [
        "# Build and fit the best SVM model with probability estimates\n",
        "best_svm_model = SVC(\n",
        "    **best_hyperparams,\n",
        "    probability=True,  # Enable probability estimates\n",
        "    random_state=42\n",
        ")"
      ]
    },
    {
      "cell_type": "code",
      "execution_count": null,
      "id": "b305eaac",
      "metadata": {
        "id": "b305eaac"
      },
      "outputs": [],
      "source": [
        "best_svm_model.fit(X_train, y_train)\n",
        "\n",
        "# Evaluate the model\n",
        "train_accuracy = best_svm_model.score(X_train, y_train)\n",
        "test_accuracy = best_svm_model.score(X_test, y_test)"
      ]
    },
    {
      "cell_type": "markdown",
      "id": "5628c136",
      "metadata": {
        "id": "5628c136"
      },
      "source": [
        "### Make Predictions"
      ]
    },
    {
      "cell_type": "code",
      "execution_count": null,
      "id": "2829dd95-c9e7-4764-bc5c-96f178f748ab",
      "metadata": {
        "id": "2829dd95-c9e7-4764-bc5c-96f178f748ab"
      },
      "outputs": [],
      "source": [
        "# Calculate precision scores\n",
        "precision_scores_train = precision_score(y_train, best_svm_model.predict(X_train), average=None)\n",
        "precision_scores_test = precision_score(y_test, best_svm_model.predict(X_test), average=None)\n"
      ]
    },
    {
      "cell_type": "code",
      "execution_count": null,
      "id": "712c182a-24bc-4c1d-86ff-63a639f55867",
      "metadata": {
        "id": "712c182a-24bc-4c1d-86ff-63a639f55867",
        "outputId": "6414ed8e-452c-479b-ef48-e6877658986e"
      },
      "outputs": [
        {
          "name": "stdout",
          "output_type": "stream",
          "text": [
            "TRAIN:\n",
            "Accuracy: 0.8633965924937852\n",
            "Precision Scores: [0.78520752 0.90138249 0.90662983]\n",
            "TEST:\n",
            "Accuracy: 0.8545763191399066\n",
            "Precision Scores: [0.75114855 0.90441839 0.92585976]\n"
          ]
        }
      ],
      "source": [
        "# Output the results\n",
        "print(\"TRAIN:\")\n",
        "print(\"Accuracy:\", train_accuracy)\n",
        "print(\"Precision Scores:\", precision_scores_train)\n",
        "\n",
        "print(\"TEST:\")\n",
        "print(\"Accuracy:\", test_accuracy)\n",
        "print(\"Precision Scores:\", precision_scores_test)"
      ]
    },
    {
      "cell_type": "markdown",
      "id": "68f615be-8c22-4c87-a602-c244023f7769",
      "metadata": {
        "id": "68f615be-8c22-4c87-a602-c244023f7769"
      },
      "source": [
        "VALUES"
      ]
    },
    {
      "cell_type": "code",
      "execution_count": null,
      "id": "46b5d04f-bcc5-480f-8943-7d183fa51526",
      "metadata": {
        "id": "46b5d04f-bcc5-480f-8943-7d183fa51526"
      },
      "outputs": [],
      "source": [
        "# Make predictions on the test set\n",
        "y_pred = best_svm_model.predict(X_test)\n"
      ]
    },
    {
      "cell_type": "code",
      "execution_count": null,
      "id": "e9851aac-afaf-41b7-8db7-13d10c95c087",
      "metadata": {
        "id": "e9851aac-afaf-41b7-8db7-13d10c95c087"
      },
      "outputs": [],
      "source": [
        "# Calculate the classification report\n",
        "report = classification_report(y_test, y_pred)\n"
      ]
    },
    {
      "cell_type": "code",
      "execution_count": null,
      "id": "18ff2eda-9116-4fb5-a4a6-ae3415c53678",
      "metadata": {
        "id": "18ff2eda-9116-4fb5-a4a6-ae3415c53678",
        "outputId": "42bda443-a31f-4ddd-fbe9-6ce68bc6c7bc"
      },
      "outputs": [
        {
          "name": "stdout",
          "output_type": "stream",
          "text": [
            "Classification Report:\n",
            "              precision    recall  f1-score   support\n",
            "\n",
            "           0       0.75      0.84      0.79      2340\n",
            "           1       0.90      0.87      0.89      2314\n",
            "           2       0.93      0.86      0.89      2415\n",
            "\n",
            "    accuracy                           0.85      7069\n",
            "   macro avg       0.86      0.85      0.86      7069\n",
            "weighted avg       0.86      0.85      0.86      7069\n",
            "\n"
          ]
        }
      ],
      "source": [
        "print('Classification Report:')\n",
        "print(report)"
      ]
    },
    {
      "cell_type": "code",
      "execution_count": null,
      "id": "7f7c2dd1-420e-4bbb-ad1b-28e2bb12d372",
      "metadata": {
        "id": "7f7c2dd1-420e-4bbb-ad1b-28e2bb12d372",
        "outputId": "de788fcd-2064-4695-d7d3-1a1344c743c5"
      },
      "outputs": [
        {
          "ename": "SyntaxError",
          "evalue": "invalid syntax (1435892540.py, line 1)",
          "output_type": "error",
          "traceback": [
            "\u001b[1;36m  Cell \u001b[1;32mIn[66], line 1\u001b[1;36m\u001b[0m\n\u001b[1;33m    confusion matrix\u001b[0m\n\u001b[1;37m              ^\u001b[0m\n\u001b[1;31mSyntaxError\u001b[0m\u001b[1;31m:\u001b[0m invalid syntax\n"
          ]
        }
      ],
      "source": [
        "confusion matrix"
      ]
    },
    {
      "cell_type": "code",
      "execution_count": null,
      "id": "96e29a1f-a8d1-43ea-9eaa-e0374ee500b3",
      "metadata": {
        "id": "96e29a1f-a8d1-43ea-9eaa-e0374ee500b3",
        "outputId": "494507df-e254-4594-9224-57d390c18bca"
      },
      "outputs": [
        {
          "data": {
            "image/png": "[encoded data removed]",
            "text/plain": [
              "<Figure size 1000x1000 with 2 Axes>"
            ]
          },
          "metadata": {},
          "output_type": "display_data"
        }
      ],
      "source": [
        "from sklearn.metrics import confusion_matrix, ConfusionMatrixDisplay\n",
        "import matplotlib.pyplot as plt\n",
        "\n",
        "# Assuming y_test and y_pred are already defined\n",
        "cm = confusion_matrix(y_test, y_pred)\n",
        "fig, ax = plt.subplots(figsize=(10, 10))  # Increase figure size for better visibility\n",
        "ConfusionMatrixDisplay(cm).plot(ax=ax, cmap='Greens')\n",
        "\n",
        "# Scale up the labels and title\n",
        "LABEL_FONT_SIZE = 16\n",
        "TITLE_FONT_SIZE = 18\n",
        "\n",
        "ax.set_xlabel('Predicted labels', fontsize=LABEL_FONT_SIZE)\n",
        "ax.set_ylabel('True labels', fontsize=LABEL_FONT_SIZE)\n",
        "ax.set_title('Confusion Matrix - SVM', fontsize=TITLE_FONT_SIZE)\n",
        "\n",
        "# Scale up the numbers inside the confusion matrix\n",
        "for text in ax.texts:\n",
        "    text.set_fontsize(LABEL_FONT_SIZE)\n",
        "\n",
        "plt.show()"
      ]
    },
    {
      "cell_type": "code",
      "execution_count": null,
      "id": "885a46fe-166b-421b-9c70-feaf1e9de382",
      "metadata": {
        "id": "885a46fe-166b-421b-9c70-feaf1e9de382",
        "outputId": "83d686f9-925c-44f7-d04d-bb96678fc1d0"
      },
      "outputs": [
        {
          "data": {
            "image/png": "[encoded data removed]",
            "text/plain": [
              "<Figure size 640x480 with 1 Axes>"
            ]
          },
          "metadata": {},
          "output_type": "display_data"
        },
        {
          "name": "stdout",
          "output_type": "stream",
          "text": [
            "Micro-average AUC: 0.97\n"
          ]
        }
      ],
      "source": [
        "from sklearn.metrics import roc_curve, auc, roc_auc_score\n",
        "from sklearn.preprocessing import label_binarize\n",
        "import numpy as np\n",
        "\n",
        "# Binarize the output\n",
        "y_test_binarized = label_binarize(y_test, classes=np.unique(y_train))\n",
        "y_pred_proba = best_svm_model.predict_proba(X_test)\n",
        "\n",
        "# Compute ROC curve and ROC area for each class\n",
        "n_classes = y_test_binarized.shape[1]\n",
        "fpr = dict()\n",
        "tpr = dict()\n",
        "roc_auc = dict()\n",
        "\n",
        "for i in range(n_classes):\n",
        "    fpr[i], tpr[i], _ = roc_curve(y_test_binarized[:, i], y_pred_proba[:, i])\n",
        "    roc_auc[i] = auc(fpr[i], tpr[i])\n",
        "\n",
        "# Plot all ROC curves\n",
        "plt.figure()\n",
        "\n",
        "# Plot ROC curve for each class\n",
        "for i in range(n_classes):\n",
        "    plt.plot(fpr[i], tpr[i], label=f'Class {i} (area = {roc_auc[i]:.2f})')\n",
        "\n",
        "plt.plot([0, 1], [0, 1], 'k--')  # Dashed diagonal line\n",
        "plt.xlabel('False Positive Rate')\n",
        "plt.ylabel('True Positive Rate')\n",
        "plt.title('Receiver Operating Characteristic (ROC) Curves')\n",
        "plt.legend(loc=\"lower right\")\n",
        "plt.show()\n",
        "\n",
        "# Compute micro-average ROC curve and ROC area\n",
        "fpr[\"micro\"], tpr[\"micro\"], _ = roc_curve(y_test_binarized.ravel(), y_pred_proba.ravel())\n",
        "roc_auc[\"micro\"] = auc(fpr[\"micro\"], tpr[\"micro\"])\n",
        "\n",
        "print(f'Micro-average AUC: {roc_auc[\"micro\"]:.2f}')"
      ]
    },
    {
      "cell_type": "code",
      "execution_count": null,
      "id": "e6e0fd75-f41e-442d-aaa1-801cdcb862be",
      "metadata": {
        "id": "e6e0fd75-f41e-442d-aaa1-801cdcb862be"
      },
      "outputs": [],
      "source": [
        "# Make predictions on the test data\n",
        "test_yhat = best_svm_model.predict(X_test)"
      ]
    },
    {
      "cell_type": "code",
      "execution_count": null,
      "id": "5563a922-a11c-47d1-aa95-0498fefc2ae6",
      "metadata": {
        "id": "5563a922-a11c-47d1-aa95-0498fefc2ae6"
      },
      "outputs": [],
      "source": [
        "# Assuming test_yhat is your NumPy array\n",
        "df_signal = pd.DataFrame(test_yhat, columns=['signal'])"
      ]
    },
    {
      "cell_type": "code",
      "execution_count": null,
      "id": "097a8ab7-a0ba-485e-92ef-f64663884e66",
      "metadata": {
        "id": "097a8ab7-a0ba-485e-92ef-f64663884e66"
      },
      "outputs": [],
      "source": [
        "# Save the DataFrame to a CSV file\n",
        "df_signal.to_csv('signal_multiclass_svm.csv', index=False)"
      ]
    },
    {
      "cell_type": "code",
      "execution_count": null,
      "id": "3157fd5b-1649-4cc2-ad38-59ac16e41dab",
      "metadata": {
        "id": "3157fd5b-1649-4cc2-ad38-59ac16e41dab"
      },
      "outputs": [],
      "source": []
    }
  ],
  "metadata": {
    "kernelspec": {
      "display_name": "Python 3 (ipykernel)",
      "language": "python",
      "name": "python3"
    },
    "language_info": {
      "codemirror_mode": {
        "name": "ipython",
        "version": 3
      },
      "file_extension": ".py",
      "mimetype": "text/x-python",
      "name": "python",
      "nbconvert_exporter": "python",
      "pygments_lexer": "ipython3",
      "version": "3.11.8"
    },
    "colab": {
      "provenance": []
    }
  },
  "nbformat": 4,
  "nbformat_minor": 5
}