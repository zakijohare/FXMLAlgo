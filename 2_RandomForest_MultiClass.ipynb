{
  "cells": [
    {
      "cell_type": "markdown",
      "id": "0bd7552b",
      "metadata": {
        "id": "0bd7552b"
      },
      "source": [
        "### Imports"
      ]
    },
    {
      "cell_type": "code",
      "execution_count": null,
      "id": "cff7306c",
      "metadata": {
        "id": "cff7306c"
      },
      "outputs": [],
      "source": [
        "# Remove Future Warnings\n",
        "import warnings\n",
        "warnings.simplefilter(action='ignore', category=FutureWarning)\n",
        "\n",
        "# General\n",
        "import numpy as np\n",
        "import os\n",
        "# Data Management\n",
        "import pandas as pd\n",
        "from sklearn.model_selection import train_test_split\n",
        "from sklearn.model_selection import TimeSeriesSplit\n",
        "\n",
        "# Optimisation\n",
        "from hyperopt import fmin, tpe, hp, STATUS_OK, Trials, space_eval\n",
        "from sklearn.model_selection import cross_val_score\n",
        "\n",
        "# Machine LearninG\n",
        "from sklearn.ensemble import RandomForestClassifier\n",
        "from sklearn.model_selection import RandomizedSearchCV, cross_val_score\n",
        "from sklearn.model_selection import RepeatedStratifiedKFold\n",
        "from sklearn.metrics import log_loss\n",
        "\n",
        "# Evaluation\n",
        "# General Metrics\n",
        "from sklearn.metrics import accuracy_score\n",
        "from sklearn.metrics import classification_report\n",
        "from sklearn.metrics import precision_score\n",
        "from sklearn.metrics import confusion_matrix\n",
        "from sklearn.metrics import ConfusionMatrixDisplay\n",
        "\n",
        "\n",
        "# Reporting\n",
        "import matplotlib.pyplot as plt\n"
      ]
    },
    {
      "cell_type": "markdown",
      "id": "ba052341",
      "metadata": {
        "id": "ba052341"
      },
      "source": [
        "### Import Preprocessed Data"
      ]
    },
    {
      "cell_type": "code",
      "execution_count": null,
      "id": "86261e69-02af-456e-899d-8f1888fdbb5b",
      "metadata": {
        "id": "86261e69-02af-456e-899d-8f1888fdbb5b"
      },
      "outputs": [],
      "source": [
        "# Construct the file path\n",
        "file_path = os.path.join('Data Augmented', 'XAU_USD_M15_AUGMENTED_MULTICLASS.pkl')\n",
        "\n",
        "# Load the dataset\n",
        "df = pd.read_pickle(file_path)"
      ]
    },
    {
      "cell_type": "code",
      "execution_count": null,
      "id": "964fff83-d56f-4c35-8179-893fb796f99b",
      "metadata": {
        "id": "964fff83-d56f-4c35-8179-893fb796f99b",
        "outputId": "1863deab-704b-41ac-e24f-976443a1895e"
      },
      "outputs": [
        {
          "name": "stdout",
          "output_type": "stream",
          "text": [
            "Shape of entire DataFrame:  (23562, 27)\n",
            "Shape of X:  (23562, 26)\n",
            "Shape of y:  (23562,)\n",
            "\n",
            "First 5 rows of features (X):\n",
            "       PC_0      PC_1      PC_2      PC_3      PC_4      PC_5      PC_6  \\\n",
            "0 -6.254425  2.829216 -4.891684 -2.845976  4.008486 -8.555140  5.862690   \n",
            "1 -3.850872  4.903726 -1.756492 -5.537689  2.208127 -4.524315  3.431820   \n",
            "2 -1.095318  5.893986 -0.804774 -5.597807  2.819885 -6.055102  5.503417   \n",
            "3  2.351989  7.265397  1.256356 -5.356025  4.113341 -6.214222  3.473383   \n",
            "4  0.294494  5.522330 -1.981066 -4.531020  2.242955 -5.241408  3.138588   \n",
            "\n",
            "        PC_7      PC_8      PC_9  ...     PC_16     PC_17      PC_18  \\\n",
            "0   7.165960  3.078656  3.506201  ...  3.422188 -2.717913 -14.004499   \n",
            "1  11.216646 -0.391129  3.273041  ...  2.816306 -1.706859 -10.416053   \n",
            "2   9.982037  1.918705  5.091947  ...  3.110125 -3.930625  -6.267588   \n",
            "3   9.101391  0.924793  5.216997  ...  2.856252 -0.231934 -13.271259   \n",
            "4  10.148424  0.734575  5.403931  ...  3.014510 -1.393204 -10.976878   \n",
            "\n",
            "       PC_19     PC_20     PC_21      PC_22     PC_23     PC_24     PC_25  \n",
            "0 -12.910195  4.145780 -0.423653  14.340557  6.488940  9.508588  2.280161  \n",
            "1 -13.386968  3.252920 -3.765224  12.848700  6.953216  7.329132  1.867486  \n",
            "2  -7.206640  3.664679 -1.927819  10.473616  5.333419  6.082357  1.470231  \n",
            "3 -16.413667  4.734509 -2.904687  13.437568  6.211813  6.376945  1.979798  \n",
            "4 -14.925050  3.772343 -2.560987  12.395841  6.239294  6.073382  1.937782  \n",
            "\n",
            "[5 rows x 26 columns]\n",
            "\n",
            "First 5 rows of target (y):\n",
            "0    0\n",
            "1    0\n",
            "2    2\n",
            "3    2\n",
            "4    0\n",
            "Name: signal, dtype: int64\n",
            "\n",
            "Type of X:  <class 'pandas.core.frame.DataFrame'>\n",
            "Type of y:  <class 'pandas.core.series.Series'>\n"
          ]
        }
      ],
      "source": [
        "# Assuming the last column is the target variable and the rest are features\n",
        "X = df.iloc[:, :-1]\n",
        "y = df.iloc[:, -1]\n",
        "\n",
        "# Now, let's perform some checks to ensure it worked\n",
        "print(\"Shape of entire DataFrame: \", df.shape)\n",
        "print(\"Shape of X: \", X.shape)\n",
        "print(\"Shape of y: \", y.shape)\n",
        "\n",
        "# Check the first few records to ensure the split looks correct\n",
        "print(\"\\nFirst 5 rows of features (X):\")\n",
        "print(X.head())\n",
        "print(\"\\nFirst 5 rows of target (y):\")\n",
        "print(y.head())\n",
        "\n",
        "# Check the types to confirm they are pandas DataFrames/Series\n",
        "print(\"\\nType of X: \", type(X))\n",
        "print(\"Type of y: \", type(y))\n"
      ]
    },
    {
      "cell_type": "markdown",
      "id": "333e09d6",
      "metadata": {
        "id": "333e09d6"
      },
      "source": [
        "### Train Test Split"
      ]
    },
    {
      "cell_type": "code",
      "execution_count": null,
      "id": "9bea03f0-61c4-45c9-afff-400ad7003150",
      "metadata": {
        "id": "9bea03f0-61c4-45c9-afff-400ad7003150"
      },
      "outputs": [],
      "source": [
        "# Assuming X and y are your features and labels respectively and they are already ordered sequentially\n",
        "dataset_size = len(X)\n",
        "train_size = int(dataset_size * 0.7)  # 70% of data for training\n",
        "\n",
        "# Split the dataset into training set and test set without shuffling\n",
        "X_train = X[:train_size]\n",
        "X_test = X[train_size:]\n",
        "y_train = y[:train_size]\n",
        "y_test = y[train_size:]"
      ]
    },
    {
      "cell_type": "code",
      "execution_count": null,
      "id": "487df500",
      "metadata": {
        "id": "487df500",
        "outputId": "709fd711-cdcb-42bb-d117-b54c7f300237"
      },
      "outputs": [
        {
          "name": "stdout",
          "output_type": "stream",
          "text": [
            "Shape of X_train:  (16493, 26)\n",
            "Shape of y_train:  (16493,)\n",
            "Shape of X_test:  (7069, 26)\n",
            "Shape of y_test:  (7069,)\n",
            "Size Matches:  True\n"
          ]
        }
      ],
      "source": [
        "size_check = len(y_test) + len(y_train) == len(X)\n",
        "print(\"Shape of X_train: \", X_train.shape)\n",
        "print(\"Shape of y_train: \", y_train.shape)\n",
        "print(\"Shape of X_test: \", X_test.shape)\n",
        "print(\"Shape of y_test: \", y_test.shape)\n",
        "print(\"Size Matches: \", size_check)"
      ]
    },
    {
      "cell_type": "markdown",
      "id": "3470201b",
      "metadata": {
        "id": "3470201b"
      },
      "source": [
        "### Build Initial Model"
      ]
    },
    {
      "cell_type": "markdown",
      "id": "94241d04",
      "metadata": {
        "id": "94241d04"
      },
      "source": [
        "### Find Hyperparameters"
      ]
    },
    {
      "cell_type": "code",
      "execution_count": null,
      "id": "c93d3a63-f52d-47dd-a27e-0fd3ce2e1f88",
      "metadata": {
        "id": "c93d3a63-f52d-47dd-a27e-0fd3ce2e1f88"
      },
      "outputs": [],
      "source": [
        "space = {\n",
        "    \"n_estimators\": hp.choice(\"n_estimators\", range(50, 1001, 50)),\n",
        "    \"max_depth\": hp.choice(\"max_depth\", [None] + list(range(3, 31))),\n",
        "    \"min_samples_split\": hp.choice(\"min_samples_split\", range(2, 21)),\n",
        "    \"min_samples_leaf\": hp.choice(\"min_samples_leaf\", range(1, 21)),\n",
        "    \"max_features\": hp.choice(\"max_features\", ['sqrt', 'log2', None, 0.5, 0.75, 1.0]),\n",
        "    \"criterion\": hp.choice(\"criterion\", ['gini', 'entropy']),\n",
        "    \"class_weight\": hp.choice(\"class_weight\", [None, 'balanced', 'balanced_subsample']),\n",
        "    \"bootstrap\": True,  # Changed to allow both True and False\n",
        "    \"min_impurity_decrease\": hp.uniform(\"min_impurity_decrease\", 0.0, 0.05),\n",
        "    \"ccp_alpha\": hp.uniform(\"ccp_alpha\", 0.0, 0.05),\n",
        "    \"max_samples\": hp.choice('max_samples', [None] + [i/10.0 for i in range(1, 11)])  # Corrected range and list comprehension\n",
        "}"
      ]
    },
    {
      "cell_type": "code",
      "execution_count": null,
      "id": "cbca3229-e632-4ead-be73-1fe22b1093fc",
      "metadata": {
        "id": "cbca3229-e632-4ead-be73-1fe22b1093fc",
        "outputId": "1ea5ddf5-70e2-4318-8c8f-7492c788abb2"
      },
      "outputs": [
        {
          "name": "stdout",
          "output_type": "stream",
          "text": [
            "100%|███████████████████████████████████████████████████| 50/50 [2:17:24<00:00, 164.90s/trial, best loss: -0.7341339155749635]\n",
            "Best hyperparameters: {'bootstrap': True, 'class_weight': 'balanced', 'criterion': 'entropy', 'max_depth': None, 'max_features': 'sqrt', 'min_samples_leaf': 1, 'min_samples_split': 2, 'n_estimators': 150}\n"
          ]
        }
      ],
      "source": [
        "# Objective function for hyperparameter optimization\n",
        "def hyperopt_objective(space):\n",
        "    # Create the RandomForestClassifier with the parameters\n",
        "    classifier = RandomForestClassifier(**space)\n",
        "\n",
        "    # Setup Time Series Cross-Validator\n",
        "    tscv = TimeSeriesSplit(n_splits=5)\n",
        "\n",
        "    # Calculate the cross-validation score\n",
        "    accuracy_scores = cross_val_score(classifier, X_train, y_train, cv=tscv, scoring='accuracy')\n",
        "\n",
        "    # Our goal is to maximize accuracy, so we return it as a negative value for minimization\n",
        "    return {'loss': -np.mean(accuracy_scores), 'status': STATUS_OK}\n",
        "\n",
        "# Assuming X_train and y_train are already defined and preprocessed\n",
        "# Initialize a Trials object to store the results of each evaluation\n",
        "trials = Trials()\n",
        "\n",
        "# Run the hyperparameter search using the Tree of Parzen Estimators (TPE) algorithm\n",
        "best = fmin(\n",
        "    fn=hyperopt_objective,\n",
        "    space=space,\n",
        "    algo=tpe.suggest,\n",
        "    max_evals=50,  # Set this to the number of evaluations you want to perform\n",
        "    trials=trials\n",
        ")\n",
        "\n",
        "# Retrieve the best hyperparameters from the trials object\n",
        "\n",
        "print(\"Best hyperparameters:\", best_hyperparams)"
      ]
    },
    {
      "cell_type": "code",
      "execution_count": null,
      "id": "4754963b-1bc2-4c65-8f67-bade23571089",
      "metadata": {
        "id": "4754963b-1bc2-4c65-8f67-bade23571089",
        "outputId": "7d270cfc-64dc-41ae-b1bf-358bd038cd78"
      },
      "outputs": [
        {
          "ename": "NameError",
          "evalue": "name 'trials' is not defined",
          "output_type": "error",
          "traceback": [
            "\u001b[1;31m---------------------------------------------------------------------------\u001b[0m",
            "\u001b[1;31mNameError\u001b[0m                                 Traceback (most recent call last)",
            "Cell \u001b[1;32mIn[1], line 1\u001b[0m\n\u001b[1;32m----> 1\u001b[0m best_hyperparams \u001b[38;5;241m=\u001b[39m \u001b[43mtrials\u001b[49m\u001b[38;5;241m.\u001b[39mbest_trial[\u001b[38;5;124m'\u001b[39m\u001b[38;5;124mresult\u001b[39m\u001b[38;5;124m'\u001b[39m][\u001b[38;5;124m'\u001b[39m\u001b[38;5;124mhyperparameters\u001b[39m\u001b[38;5;124m'\u001b[39m]\n\u001b[0;32m      2\u001b[0m \u001b[38;5;28mprint\u001b[39m(best_hyperparams)\n",
            "\u001b[1;31mNameError\u001b[0m: name 'trials' is not defined"
          ]
        }
      ],
      "source": []
    },
    {
      "cell_type": "code",
      "execution_count": null,
      "id": "f52b5a20-05e9-42d9-8c76-70879b2df803",
      "metadata": {
        "id": "f52b5a20-05e9-42d9-8c76-70879b2df803"
      },
      "outputs": [],
      "source": [
        "# Use space_eval to get the actual hyperparameters from the `best` indices\n",
        "actual_best_params = space_eval(space, best)\n",
        "\n",
        "# Create the RandomForestClassifier with the best parameters\n",
        "classifier_1 = RandomForestClassifier(**actual_best_params, random_state=42)\n"
      ]
    },
    {
      "cell_type": "markdown",
      "id": "167d9494",
      "metadata": {
        "id": "167d9494"
      },
      "source": [
        "### Train Model"
      ]
    },
    {
      "cell_type": "code",
      "execution_count": null,
      "id": "b305eaac",
      "metadata": {
        "id": "b305eaac",
        "outputId": "263e7618-dda8-48de-bde4-cd800d7df0c4"
      },
      "outputs": [
        {
          "data": {
            "text/html": [
              "<style>#sk-container-id-22 {\n",
              "  /* Definition of color scheme common for light and dark mode */\n",
              "  --sklearn-color-text: black;\n",
              "  --sklearn-color-line: gray;\n",
              "  /* Definition of color scheme for unfitted estimators */\n",
              "  --sklearn-color-unfitted-level-0: #fff5e6;\n",
              "  --sklearn-color-unfitted-level-1: #f6e4d2;\n",
              "  --sklearn-color-unfitted-level-2: #ffe0b3;\n",
              "  --sklearn-color-unfitted-level-3: chocolate;\n",
              "  /* Definition of color scheme for fitted estimators */\n",
              "  --sklearn-color-fitted-level-0: #f0f8ff;\n",
              "  --sklearn-color-fitted-level-1: #d4ebff;\n",
              "  --sklearn-color-fitted-level-2: #b3dbfd;\n",
              "  --sklearn-color-fitted-level-3: cornflowerblue;\n",
              "\n",
              "  /* Specific color for light theme */\n",
              "  --sklearn-color-text-on-default-background: var(--sg-text-color, var(--theme-code-foreground, var(--jp-content-font-color1, black)));\n",
              "  --sklearn-color-background: var(--sg-background-color, var(--theme-background, var(--jp-layout-color0, white)));\n",
              "  --sklearn-color-border-box: var(--sg-text-color, var(--theme-code-foreground, var(--jp-content-font-color1, black)));\n",
              "  --sklearn-color-icon: #696969;\n",
              "\n",
              "  @media (prefers-color-scheme: dark) {\n",
              "    /* Redefinition of color scheme for dark theme */\n",
              "    --sklearn-color-text-on-default-background: var(--sg-text-color, var(--theme-code-foreground, var(--jp-content-font-color1, white)));\n",
              "    --sklearn-color-background: var(--sg-background-color, var(--theme-background, var(--jp-layout-color0, #111)));\n",
              "    --sklearn-color-border-box: var(--sg-text-color, var(--theme-code-foreground, var(--jp-content-font-color1, white)));\n",
              "    --sklearn-color-icon: #878787;\n",
              "  }\n",
              "}\n",
              "\n",
              "#sk-container-id-22 {\n",
              "  color: var(--sklearn-color-text);\n",
              "}\n",
              "\n",
              "#sk-container-id-22 pre {\n",
              "  padding: 0;\n",
              "}\n",
              "\n",
              "#sk-container-id-22 input.sk-hidden--visually {\n",
              "  border: 0;\n",
              "  clip: rect(1px 1px 1px 1px);\n",
              "  clip: rect(1px, 1px, 1px, 1px);\n",
              "  height: 1px;\n",
              "  margin: -1px;\n",
              "  overflow: hidden;\n",
              "  padding: 0;\n",
              "  position: absolute;\n",
              "  width: 1px;\n",
              "}\n",
              "\n",
              "#sk-container-id-22 div.sk-dashed-wrapped {\n",
              "  border: 1px dashed var(--sklearn-color-line);\n",
              "  margin: 0 0.4em 0.5em 0.4em;\n",
              "  box-sizing: border-box;\n",
              "  padding-bottom: 0.4em;\n",
              "  background-color: var(--sklearn-color-background);\n",
              "}\n",
              "\n",
              "#sk-container-id-22 div.sk-container {\n",
              "  /* jupyter's `normalize.less` sets `[hidden] { display: none; }`\n",
              "     but bootstrap.min.css set `[hidden] { display: none !important; }`\n",
              "     so we also need the `!important` here to be able to override the\n",
              "     default hidden behavior on the sphinx rendered scikit-learn.org.\n",
              "     See: https://github.com/scikit-learn/scikit-learn/issues/21755 */\n",
              "  display: inline-block !important;\n",
              "  position: relative;\n",
              "}\n",
              "\n",
              "#sk-container-id-22 div.sk-text-repr-fallback {\n",
              "  display: none;\n",
              "}\n",
              "\n",
              "div.sk-parallel-item,\n",
              "div.sk-serial,\n",
              "div.sk-item {\n",
              "  /* draw centered vertical line to link estimators */\n",
              "  background-image: linear-gradient(var(--sklearn-color-text-on-default-background), var(--sklearn-color-text-on-default-background));\n",
              "  background-size: 2px 100%;\n",
              "  background-repeat: no-repeat;\n",
              "  background-position: center center;\n",
              "}\n",
              "\n",
              "/* Parallel-specific style estimator block */\n",
              "\n",
              "#sk-container-id-22 div.sk-parallel-item::after {\n",
              "  content: \"\";\n",
              "  width: 100%;\n",
              "  border-bottom: 2px solid var(--sklearn-color-text-on-default-background);\n",
              "  flex-grow: 1;\n",
              "}\n",
              "\n",
              "#sk-container-id-22 div.sk-parallel {\n",
              "  display: flex;\n",
              "  align-items: stretch;\n",
              "  justify-content: center;\n",
              "  background-color: var(--sklearn-color-background);\n",
              "  position: relative;\n",
              "}\n",
              "\n",
              "#sk-container-id-22 div.sk-parallel-item {\n",
              "  display: flex;\n",
              "  flex-direction: column;\n",
              "}\n",
              "\n",
              "#sk-container-id-22 div.sk-parallel-item:first-child::after {\n",
              "  align-self: flex-end;\n",
              "  width: 50%;\n",
              "}\n",
              "\n",
              "#sk-container-id-22 div.sk-parallel-item:last-child::after {\n",
              "  align-self: flex-start;\n",
              "  width: 50%;\n",
              "}\n",
              "\n",
              "#sk-container-id-22 div.sk-parallel-item:only-child::after {\n",
              "  width: 0;\n",
              "}\n",
              "\n",
              "/* Serial-specific style estimator block */\n",
              "\n",
              "#sk-container-id-22 div.sk-serial {\n",
              "  display: flex;\n",
              "  flex-direction: column;\n",
              "  align-items: center;\n",
              "  background-color: var(--sklearn-color-background);\n",
              "  padding-right: 1em;\n",
              "  padding-left: 1em;\n",
              "}\n",
              "\n",
              "\n",
              "/* Toggleable style: style used for estimator/Pipeline/ColumnTransformer box that is\n",
              "clickable and can be expanded/collapsed.\n",
              "- Pipeline and ColumnTransformer use this feature and define the default style\n",
              "- Estimators will overwrite some part of the style using the `sk-estimator` class\n",
              "*/\n",
              "\n",
              "/* Pipeline and ColumnTransformer style (default) */\n",
              "\n",
              "#sk-container-id-22 div.sk-toggleable {\n",
              "  /* Default theme specific background. It is overwritten whether we have a\n",
              "  specific estimator or a Pipeline/ColumnTransformer */\n",
              "  background-color: var(--sklearn-color-background);\n",
              "}\n",
              "\n",
              "/* Toggleable label */\n",
              "#sk-container-id-22 label.sk-toggleable__label {\n",
              "  cursor: pointer;\n",
              "  display: block;\n",
              "  width: 100%;\n",
              "  margin-bottom: 0;\n",
              "  padding: 0.5em;\n",
              "  box-sizing: border-box;\n",
              "  text-align: center;\n",
              "}\n",
              "\n",
              "#sk-container-id-22 label.sk-toggleable__label-arrow:before {\n",
              "  /* Arrow on the left of the label */\n",
              "  content: \"▸\";\n",
              "  float: left;\n",
              "  margin-right: 0.25em;\n",
              "  color: var(--sklearn-color-icon);\n",
              "}\n",
              "\n",
              "#sk-container-id-22 label.sk-toggleable__label-arrow:hover:before {\n",
              "  color: var(--sklearn-color-text);\n",
              "}\n",
              "\n",
              "/* Toggleable content - dropdown */\n",
              "\n",
              "#sk-container-id-22 div.sk-toggleable__content {\n",
              "  max-height: 0;\n",
              "  max-width: 0;\n",
              "  overflow: hidden;\n",
              "  text-align: left;\n",
              "  /* unfitted */\n",
              "  background-color: var(--sklearn-color-unfitted-level-0);\n",
              "}\n",
              "\n",
              "#sk-container-id-22 div.sk-toggleable__content.fitted {\n",
              "  /* fitted */\n",
              "  background-color: var(--sklearn-color-fitted-level-0);\n",
              "}\n",
              "\n",
              "#sk-container-id-22 div.sk-toggleable__content pre {\n",
              "  margin: 0.2em;\n",
              "  border-radius: 0.25em;\n",
              "  color: var(--sklearn-color-text);\n",
              "  /* unfitted */\n",
              "  background-color: var(--sklearn-color-unfitted-level-0);\n",
              "}\n",
              "\n",
              "#sk-container-id-22 div.sk-toggleable__content.fitted pre {\n",
              "  /* unfitted */\n",
              "  background-color: var(--sklearn-color-fitted-level-0);\n",
              "}\n",
              "\n",
              "#sk-container-id-22 input.sk-toggleable__control:checked~div.sk-toggleable__content {\n",
              "  /* Expand drop-down */\n",
              "  max-height: 200px;\n",
              "  max-width: 100%;\n",
              "  overflow: auto;\n",
              "}\n",
              "\n",
              "#sk-container-id-22 input.sk-toggleable__control:checked~label.sk-toggleable__label-arrow:before {\n",
              "  content: \"▾\";\n",
              "}\n",
              "\n",
              "/* Pipeline/ColumnTransformer-specific style */\n",
              "\n",
              "#sk-container-id-22 div.sk-label input.sk-toggleable__control:checked~label.sk-toggleable__label {\n",
              "  color: var(--sklearn-color-text);\n",
              "  background-color: var(--sklearn-color-unfitted-level-2);\n",
              "}\n",
              "\n",
              "#sk-container-id-22 div.sk-label.fitted input.sk-toggleable__control:checked~label.sk-toggleable__label {\n",
              "  background-color: var(--sklearn-color-fitted-level-2);\n",
              "}\n",
              "\n",
              "/* Estimator-specific style */\n",
              "\n",
              "/* Colorize estimator box */\n",
              "#sk-container-id-22 div.sk-estimator input.sk-toggleable__control:checked~label.sk-toggleable__label {\n",
              "  /* unfitted */\n",
              "  background-color: var(--sklearn-color-unfitted-level-2);\n",
              "}\n",
              "\n",
              "#sk-container-id-22 div.sk-estimator.fitted input.sk-toggleable__control:checked~label.sk-toggleable__label {\n",
              "  /* fitted */\n",
              "  background-color: var(--sklearn-color-fitted-level-2);\n",
              "}\n",
              "\n",
              "#sk-container-id-22 div.sk-label label.sk-toggleable__label,\n",
              "#sk-container-id-22 div.sk-label label {\n",
              "  /* The background is the default theme color */\n",
              "  color: var(--sklearn-color-text-on-default-background);\n",
              "}\n",
              "\n",
              "/* On hover, darken the color of the background */\n",
              "#sk-container-id-22 div.sk-label:hover label.sk-toggleable__label {\n",
              "  color: var(--sklearn-color-text);\n",
              "  background-color: var(--sklearn-color-unfitted-level-2);\n",
              "}\n",
              "\n",
              "/* Label box, darken color on hover, fitted */\n",
              "#sk-container-id-22 div.sk-label.fitted:hover label.sk-toggleable__label.fitted {\n",
              "  color: var(--sklearn-color-text);\n",
              "  background-color: var(--sklearn-color-fitted-level-2);\n",
              "}\n",
              "\n",
              "/* Estimator label */\n",
              "\n",
              "#sk-container-id-22 div.sk-label label {\n",
              "  font-family: monospace;\n",
              "  font-weight: bold;\n",
              "  display: inline-block;\n",
              "  line-height: 1.2em;\n",
              "}\n",
              "\n",
              "#sk-container-id-22 div.sk-label-container {\n",
              "  text-align: center;\n",
              "}\n",
              "\n",
              "/* Estimator-specific */\n",
              "#sk-container-id-22 div.sk-estimator {\n",
              "  font-family: monospace;\n",
              "  border: 1px dotted var(--sklearn-color-border-box);\n",
              "  border-radius: 0.25em;\n",
              "  box-sizing: border-box;\n",
              "  margin-bottom: 0.5em;\n",
              "  /* unfitted */\n",
              "  background-color: var(--sklearn-color-unfitted-level-0);\n",
              "}\n",
              "\n",
              "#sk-container-id-22 div.sk-estimator.fitted {\n",
              "  /* fitted */\n",
              "  background-color: var(--sklearn-color-fitted-level-0);\n",
              "}\n",
              "\n",
              "/* on hover */\n",
              "#sk-container-id-22 div.sk-estimator:hover {\n",
              "  /* unfitted */\n",
              "  background-color: var(--sklearn-color-unfitted-level-2);\n",
              "}\n",
              "\n",
              "#sk-container-id-22 div.sk-estimator.fitted:hover {\n",
              "  /* fitted */\n",
              "  background-color: var(--sklearn-color-fitted-level-2);\n",
              "}\n",
              "\n",
              "/* Specification for estimator info (e.g. \"i\" and \"?\") */\n",
              "\n",
              "/* Common style for \"i\" and \"?\" */\n",
              "\n",
              ".sk-estimator-doc-link,\n",
              "a:link.sk-estimator-doc-link,\n",
              "a:visited.sk-estimator-doc-link {\n",
              "  float: right;\n",
              "  font-size: smaller;\n",
              "  line-height: 1em;\n",
              "  font-family: monospace;\n",
              "  background-color: var(--sklearn-color-background);\n",
              "  border-radius: 1em;\n",
              "  height: 1em;\n",
              "  width: 1em;\n",
              "  text-decoration: none !important;\n",
              "  margin-left: 1ex;\n",
              "  /* unfitted */\n",
              "  border: var(--sklearn-color-unfitted-level-1) 1pt solid;\n",
              "  color: var(--sklearn-color-unfitted-level-1);\n",
              "}\n",
              "\n",
              ".sk-estimator-doc-link.fitted,\n",
              "a:link.sk-estimator-doc-link.fitted,\n",
              "a:visited.sk-estimator-doc-link.fitted {\n",
              "  /* fitted */\n",
              "  border: var(--sklearn-color-fitted-level-1) 1pt solid;\n",
              "  color: var(--sklearn-color-fitted-level-1);\n",
              "}\n",
              "\n",
              "/* On hover */\n",
              "div.sk-estimator:hover .sk-estimator-doc-link:hover,\n",
              ".sk-estimator-doc-link:hover,\n",
              "div.sk-label-container:hover .sk-estimator-doc-link:hover,\n",
              ".sk-estimator-doc-link:hover {\n",
              "  /* unfitted */\n",
              "  background-color: var(--sklearn-color-unfitted-level-3);\n",
              "  color: var(--sklearn-color-background);\n",
              "  text-decoration: none;\n",
              "}\n",
              "\n",
              "div.sk-estimator.fitted:hover .sk-estimator-doc-link.fitted:hover,\n",
              ".sk-estimator-doc-link.fitted:hover,\n",
              "div.sk-label-container:hover .sk-estimator-doc-link.fitted:hover,\n",
              ".sk-estimator-doc-link.fitted:hover {\n",
              "  /* fitted */\n",
              "  background-color: var(--sklearn-color-fitted-level-3);\n",
              "  color: var(--sklearn-color-background);\n",
              "  text-decoration: none;\n",
              "}\n",
              "\n",
              "/* Span, style for the box shown on hovering the info icon */\n",
              ".sk-estimator-doc-link span {\n",
              "  display: none;\n",
              "  z-index: 9999;\n",
              "  position: relative;\n",
              "  font-weight: normal;\n",
              "  right: .2ex;\n",
              "  padding: .5ex;\n",
              "  margin: .5ex;\n",
              "  width: min-content;\n",
              "  min-width: 20ex;\n",
              "  max-width: 50ex;\n",
              "  color: var(--sklearn-color-text);\n",
              "  box-shadow: 2pt 2pt 4pt #999;\n",
              "  /* unfitted */\n",
              "  background: var(--sklearn-color-unfitted-level-0);\n",
              "  border: .5pt solid var(--sklearn-color-unfitted-level-3);\n",
              "}\n",
              "\n",
              ".sk-estimator-doc-link.fitted span {\n",
              "  /* fitted */\n",
              "  background: var(--sklearn-color-fitted-level-0);\n",
              "  border: var(--sklearn-color-fitted-level-3);\n",
              "}\n",
              "\n",
              ".sk-estimator-doc-link:hover span {\n",
              "  display: block;\n",
              "}\n",
              "\n",
              "/* \"?\"-specific style due to the `<a>` HTML tag */\n",
              "\n",
              "#sk-container-id-22 a.estimator_doc_link {\n",
              "  float: right;\n",
              "  font-size: 1rem;\n",
              "  line-height: 1em;\n",
              "  font-family: monospace;\n",
              "  background-color: var(--sklearn-color-background);\n",
              "  border-radius: 1rem;\n",
              "  height: 1rem;\n",
              "  width: 1rem;\n",
              "  text-decoration: none;\n",
              "  /* unfitted */\n",
              "  color: var(--sklearn-color-unfitted-level-1);\n",
              "  border: var(--sklearn-color-unfitted-level-1) 1pt solid;\n",
              "}\n",
              "\n",
              "#sk-container-id-22 a.estimator_doc_link.fitted {\n",
              "  /* fitted */\n",
              "  border: var(--sklearn-color-fitted-level-1) 1pt solid;\n",
              "  color: var(--sklearn-color-fitted-level-1);\n",
              "}\n",
              "\n",
              "/* On hover */\n",
              "#sk-container-id-22 a.estimator_doc_link:hover {\n",
              "  /* unfitted */\n",
              "  background-color: var(--sklearn-color-unfitted-level-3);\n",
              "  color: var(--sklearn-color-background);\n",
              "  text-decoration: none;\n",
              "}\n",
              "\n",
              "#sk-container-id-22 a.estimator_doc_link.fitted:hover {\n",
              "  /* fitted */\n",
              "  background-color: var(--sklearn-color-fitted-level-3);\n",
              "}\n",
              "</style><div id=\"sk-container-id-22\" class=\"sk-top-container\"><div class=\"sk-text-repr-fallback\"><pre>RandomForestClassifier(ccp_alpha=0.003707279819845054, criterion=&#x27;entropy&#x27;,\n",
              "                       max_depth=30, max_samples=0.2,\n",
              "                       min_impurity_decrease=0.003372813954342839,\n",
              "                       min_samples_leaf=5, min_samples_split=4,\n",
              "                       n_estimators=600, random_state=42)</pre><b>In a Jupyter environment, please rerun this cell to show the HTML representation or trust the notebook. <br />On GitHub, the HTML representation is unable to render, please try loading this page with nbviewer.org.</b></div><div class=\"sk-container\" hidden><div class=\"sk-item\"><div class=\"sk-estimator fitted sk-toggleable\"><input class=\"sk-toggleable__control sk-hidden--visually\" id=\"sk-estimator-id-22\" type=\"checkbox\" checked><label for=\"sk-estimator-id-22\" class=\"sk-toggleable__label fitted sk-toggleable__label-arrow fitted\">&nbsp;&nbsp;RandomForestClassifier<a class=\"sk-estimator-doc-link fitted\" rel=\"noreferrer\" target=\"_blank\" href=\"https://scikit-learn.org/1.4/modules/generated/sklearn.ensemble.RandomForestClassifier.html\">?<span>Documentation for RandomForestClassifier</span></a><span class=\"sk-estimator-doc-link fitted\">i<span>Fitted</span></span></label><div class=\"sk-toggleable__content fitted\"><pre>RandomForestClassifier(ccp_alpha=0.003707279819845054, criterion=&#x27;entropy&#x27;,\n",
              "                       max_depth=30, max_samples=0.2,\n",
              "                       min_impurity_decrease=0.003372813954342839,\n",
              "                       min_samples_leaf=5, min_samples_split=4,\n",
              "                       n_estimators=600, random_state=42)</pre></div> </div></div></div></div>"
            ],
            "text/plain": [
              "RandomForestClassifier(ccp_alpha=0.003707279819845054, criterion='entropy',\n",
              "                       max_depth=30, max_samples=0.2,\n",
              "                       min_impurity_decrease=0.003372813954342839,\n",
              "                       min_samples_leaf=5, min_samples_split=4,\n",
              "                       n_estimators=600, random_state=42)"
            ]
          },
          "execution_count": 337,
          "metadata": {},
          "output_type": "execute_result"
        }
      ],
      "source": [
        "# Fit the model on the training data\n",
        "classifier_1.fit(X_train, y_train)\n"
      ]
    },
    {
      "cell_type": "markdown",
      "id": "5628c136",
      "metadata": {
        "id": "5628c136"
      },
      "source": [
        "### Make Predictions"
      ]
    },
    {
      "cell_type": "code",
      "execution_count": null,
      "id": "e921249a-7dc3-401d-a34d-c706449c4e2b",
      "metadata": {
        "id": "e921249a-7dc3-401d-a34d-c706449c4e2b"
      },
      "outputs": [],
      "source": [
        "# Calculate accuracy scores\n",
        "train_accuracy = accuracy_score(y_train, classifier_1.predict(X_train))\n",
        "test_accuracy = accuracy_score(y_test, classifier_1.predict(X_test))"
      ]
    },
    {
      "cell_type": "code",
      "execution_count": null,
      "id": "142d34c3-9334-4875-8b75-927b36216cdc",
      "metadata": {
        "id": "142d34c3-9334-4875-8b75-927b36216cdc"
      },
      "outputs": [],
      "source": [
        "# Calculate precision scores\n",
        "precision_scores_train = precision_score(y_train, classifier_1.predict(X_train), average=None)\n",
        "precision_scores_test = precision_score(y_test, classifier_1.predict(X_test), average=None)"
      ]
    },
    {
      "cell_type": "code",
      "execution_count": null,
      "id": "b37ac133-5404-491d-be40-bdda355f0a66",
      "metadata": {
        "id": "b37ac133-5404-491d-be40-bdda355f0a66",
        "outputId": "cdac9e24-8c84-4045-db03-18ed8462cf5e"
      },
      "outputs": [
        {
          "name": "stdout",
          "output_type": "stream",
          "text": [
            "TRAIN:\n",
            "Accuracy: 0.7505608439944219\n",
            "Precision Scores: [0.66501508 0.78312038 0.78502456]\n",
            "TEST:\n",
            "Accuracy: 0.7173574763049936\n",
            "Precision Scores: [0.60419717 0.7629539  0.76411055]\n"
          ]
        }
      ],
      "source": [
        "# Output the results\n",
        "print(\"TRAIN:\")\n",
        "print(\"Accuracy:\", train_accuracy)\n",
        "print(\"Precision Scores:\", precision_scores_train)\n",
        "\n",
        "print(\"TEST:\")\n",
        "print(\"Accuracy:\", test_accuracy)\n",
        "print(\"Precision Scores:\", precision_scores_test)"
      ]
    },
    {
      "cell_type": "code",
      "execution_count": null,
      "id": "b88e43ae-fd41-4242-9a05-0533c1150871",
      "metadata": {
        "id": "b88e43ae-fd41-4242-9a05-0533c1150871",
        "outputId": "eac5762f-5691-42ff-b251-bed07baa0a26"
      },
      "outputs": [
        {
          "ename": "NameError",
          "evalue": "name 'values' is not defined",
          "output_type": "error",
          "traceback": [
            "\u001b[1;31m---------------------------------------------------------------------------\u001b[0m",
            "\u001b[1;31mNameError\u001b[0m                                 Traceback (most recent call last)",
            "Cell \u001b[1;32mIn[304], line 1\u001b[0m\n\u001b[1;32m----> 1\u001b[0m \u001b[43mvalues\u001b[49m\n",
            "\u001b[1;31mNameError\u001b[0m: name 'values' is not defined"
          ]
        }
      ],
      "source": [
        "values"
      ]
    },
    {
      "cell_type": "code",
      "execution_count": null,
      "id": "7ae05a1f-5eeb-4b8b-8f46-5a6210fc5ea7",
      "metadata": {
        "id": "7ae05a1f-5eeb-4b8b-8f46-5a6210fc5ea7"
      },
      "outputs": [],
      "source": [
        "# Make predictions on the test set\n",
        "y_pred = classifier_1.predict(X_test)\n"
      ]
    },
    {
      "cell_type": "code",
      "execution_count": null,
      "id": "79b14efe-b989-4b89-a502-53097c834d8a",
      "metadata": {
        "id": "79b14efe-b989-4b89-a502-53097c834d8a"
      },
      "outputs": [],
      "source": [
        "# Calculate the classification report\n",
        "report = classification_report(y_test, y_pred)\n"
      ]
    },
    {
      "cell_type": "code",
      "execution_count": null,
      "id": "26746f66-69ca-4cfd-b05c-567dbfefb070",
      "metadata": {
        "id": "26746f66-69ca-4cfd-b05c-567dbfefb070",
        "outputId": "e0c91927-d1c1-42f1-c9a0-16401f74ce4e"
      },
      "outputs": [
        {
          "name": "stdout",
          "output_type": "stream",
          "text": [
            "Classification Report:\n",
            "              precision    recall  f1-score   support\n",
            "\n",
            "           0       0.60      0.53      0.56      2340\n",
            "           1       0.76      0.81      0.78      2314\n",
            "           2       0.76      0.81      0.79      2415\n",
            "\n",
            "    accuracy                           0.72      7069\n",
            "   macro avg       0.71      0.72      0.71      7069\n",
            "weighted avg       0.71      0.72      0.71      7069\n",
            "\n"
          ]
        }
      ],
      "source": [
        "print('Classification Report:')\n",
        "print(report)"
      ]
    },
    {
      "cell_type": "code",
      "execution_count": null,
      "id": "c923a789-cccc-4565-98e5-302fbb3e9d29",
      "metadata": {
        "id": "c923a789-cccc-4565-98e5-302fbb3e9d29",
        "outputId": "50433fec-0af3-44e6-e8e9-6b9f05b87476"
      },
      "outputs": [
        {
          "ename": "NameError",
          "evalue": "name 'SUMMARY' is not defined",
          "output_type": "error",
          "traceback": [
            "\u001b[1;31m---------------------------------------------------------------------------\u001b[0m",
            "\u001b[1;31mNameError\u001b[0m                                 Traceback (most recent call last)",
            "Cell \u001b[1;32mIn[344], line 1\u001b[0m\n\u001b[1;32m----> 1\u001b[0m \u001b[43mSUMMARY\u001b[49m\n",
            "\u001b[1;31mNameError\u001b[0m: name 'SUMMARY' is not defined"
          ]
        }
      ],
      "source": [
        "SUMMARY"
      ]
    },
    {
      "cell_type": "code",
      "execution_count": null,
      "id": "7f7c2dd1-420e-4bbb-ad1b-28e2bb12d372",
      "metadata": {
        "id": "7f7c2dd1-420e-4bbb-ad1b-28e2bb12d372"
      },
      "outputs": [],
      "source": [
        "confusion matrix"
      ]
    },
    {
      "cell_type": "code",
      "execution_count": null,
      "id": "6c42cb28-3bd2-4aa5-9a9d-5807d1fd88f5",
      "metadata": {
        "id": "6c42cb28-3bd2-4aa5-9a9d-5807d1fd88f5",
        "outputId": "70a210ba-d92f-47ae-d575-48d8fb4a6257"
      },
      "outputs": [
        {
          "data": {
            "image/png": "[encoded data removed]",
            "text/plain": [
              "<Figure size 1000x1000 with 2 Axes>"
            ]
          },
          "metadata": {},
          "output_type": "display_data"
        }
      ],
      "source": [
        "from sklearn.metrics import confusion_matrix, ConfusionMatrixDisplay\n",
        "import matplotlib.pyplot as plt\n",
        "\n",
        "# Assuming y_test and y_pred are already defined\n",
        "cm = confusion_matrix(y_test, y_pred)\n",
        "fig, ax = plt.subplots(figsize=(10, 10))  # Increase figure size for better visibility\n",
        "ConfusionMatrixDisplay(cm).plot(ax=ax, cmap='Reds')\n",
        "\n",
        "# Scale up the labels and title\n",
        "LABEL_FONT_SIZE = 16\n",
        "TITLE_FONT_SIZE = 18\n",
        "\n",
        "ax.set_xlabel('Predicted labels', fontsize=LABEL_FONT_SIZE)\n",
        "ax.set_ylabel('True labels', fontsize=LABEL_FONT_SIZE)\n",
        "ax.set_title('Confusion Matrix - RANDOM FOREST', fontsize=TITLE_FONT_SIZE)\n",
        "\n",
        "# Scale up the numbers inside the confusion matrix\n",
        "for text in ax.texts:\n",
        "    text.set_fontsize(LABEL_FONT_SIZE)\n",
        "\n",
        "plt.show()"
      ]
    },
    {
      "cell_type": "code",
      "execution_count": null,
      "id": "b6994947-1310-4999-a4ff-ac05cdbc1fd1",
      "metadata": {
        "id": "b6994947-1310-4999-a4ff-ac05cdbc1fd1",
        "outputId": "a7735398-484b-42d5-9ab5-c01f54b643c8"
      },
      "outputs": [
        {
          "data": {
            "image/png": "[encoded data removed]",
            "text/plain": [
              "<Figure size 640x480 with 1 Axes>"
            ]
          },
          "metadata": {},
          "output_type": "display_data"
        },
        {
          "name": "stdout",
          "output_type": "stream",
          "text": [
            "Micro-average AUC: 0.89\n"
          ]
        }
      ],
      "source": [
        "from sklearn.metrics import roc_curve, auc, roc_auc_score\n",
        "from sklearn.preprocessing import label_binarize\n",
        "import numpy as np\n",
        "\n",
        "# Binarize the output\n",
        "y_test_binarized = label_binarize(y_test, classes=np.unique(y_train))\n",
        "y_pred_proba = classifier_1.predict_proba(X_test)\n",
        "\n",
        "# Compute ROC curve and ROC area for each class\n",
        "n_classes = y_test_binarized.shape[1]\n",
        "fpr = dict()\n",
        "tpr = dict()\n",
        "roc_auc = dict()\n",
        "\n",
        "for i in range(n_classes):\n",
        "    fpr[i], tpr[i], _ = roc_curve(y_test_binarized[:, i], y_pred_proba[:, i])\n",
        "    roc_auc[i] = auc(fpr[i], tpr[i])\n",
        "\n",
        "# Plot all ROC curves\n",
        "plt.figure()\n",
        "\n",
        "# Plot ROC curve for each class\n",
        "for i in range(n_classes):\n",
        "    plt.plot(fpr[i], tpr[i], label=f'Class {i} (area = {roc_auc[i]:.2f})')\n",
        "\n",
        "plt.plot([0, 1], [0, 1], 'k--')  # Dashed diagonal line\n",
        "plt.xlabel('False Positive Rate')\n",
        "plt.ylabel('True Positive Rate')\n",
        "plt.title('Receiver Operating Characteristic (ROC) Curves')\n",
        "plt.legend(loc=\"lower right\")\n",
        "plt.show()\n",
        "\n",
        "# Compute micro-average ROC curve and ROC area\n",
        "fpr[\"micro\"], tpr[\"micro\"], _ = roc_curve(y_test_binarized.ravel(), y_pred_proba.ravel())\n",
        "roc_auc[\"micro\"] = auc(fpr[\"micro\"], tpr[\"micro\"])\n",
        "\n",
        "print(f'Micro-average AUC: {roc_auc[\"micro\"]:.2f}')"
      ]
    },
    {
      "cell_type": "code",
      "execution_count": null,
      "id": "98a45003-d583-4e2a-adbc-6f3bc53e97a5",
      "metadata": {
        "id": "98a45003-d583-4e2a-adbc-6f3bc53e97a5"
      },
      "outputs": [],
      "source": []
    },
    {
      "cell_type": "code",
      "execution_count": null,
      "id": "bfb9235f-ea12-427a-bf9b-e56740097559",
      "metadata": {
        "id": "bfb9235f-ea12-427a-bf9b-e56740097559"
      },
      "outputs": [],
      "source": [
        "# Assuming test_yhat is your NumPy array\n",
        "df_signal = pd.DataFrame(test_yhat, columns=['signal'])"
      ]
    },
    {
      "cell_type": "code",
      "execution_count": null,
      "id": "7c5b4cbe-5e78-4aef-b48b-4d57315a5d77",
      "metadata": {
        "id": "7c5b4cbe-5e78-4aef-b48b-4d57315a5d77"
      },
      "outputs": [],
      "source": [
        "# Save the DataFrame to a CSV file\n",
        "df_signal.to_csv('signal_multiclass_forest.csv', index=False)"
      ]
    },
    {
      "cell_type": "code",
      "execution_count": null,
      "id": "e46d7a92-b5f1-4575-b36b-e18e64a48ef4",
      "metadata": {
        "id": "e46d7a92-b5f1-4575-b36b-e18e64a48ef4"
      },
      "outputs": [],
      "source": []
    }
  ],
  "metadata": {
    "kernelspec": {
      "display_name": "Python 3 (ipykernel)",
      "language": "python",
      "name": "python3"
    },
    "language_info": {
      "codemirror_mode": {
        "name": "ipython",
        "version": 3
      },
      "file_extension": ".py",
      "mimetype": "text/x-python",
      "name": "python",
      "nbconvert_exporter": "python",
      "pygments_lexer": "ipython3",
      "version": "3.11.8"
    },
    "colab": {
      "provenance": []
    }
  },
  "nbformat": 4,
  "nbformat_minor": 5
}