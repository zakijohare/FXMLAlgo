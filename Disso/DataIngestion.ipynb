{
  "cells": [
    {
      "cell_type": "code",
      "execution_count": null,
      "id": "a3412e16-1184-4faf-b8ea-2611e1f13cf0",
      "metadata": {
        "id": "a3412e16-1184-4faf-b8ea-2611e1f13cf0"
      },
      "outputs": [],
      "source": [
        "import requests\n",
        "import pandas as pd\n",
        "import json\n",
        "from dateutil import parser\n",
        "from datetime import datetime, timezone\n",
        "import os\n",
        "import pickle"
      ]
    },
    {
      "cell_type": "code",
      "execution_count": null,
      "id": "29c000a8-de36-4b1d-b5c8-f1ae16d1af7d",
      "metadata": {
        "id": "29c000a8-de36-4b1d-b5c8-f1ae16d1af7d"
      },
      "outputs": [],
      "source": [
        "API_KEY = \"a7f5a55a86693e1890a435daa9e97277-9af069c4659def07a9ad2affb59cb44c\"\n",
        "ACCOUNT_ID = \"101-004-26690988-001\"\n",
        "OANDA_URL = \"https://api-fxpractice.oanda.com/v3\""
      ]
    },
    {
      "cell_type": "code",
      "execution_count": null,
      "id": "f62c06fc-0d39-4032-9b0e-be47658ea0d7",
      "metadata": {
        "id": "f62c06fc-0d39-4032-9b0e-be47658ea0d7"
      },
      "outputs": [],
      "source": [
        "session = requests.Session()"
      ]
    },
    {
      "cell_type": "code",
      "execution_count": null,
      "id": "a0de34c5-d2bf-4690-a8a1-bb74058ee659",
      "metadata": {
        "id": "a0de34c5-d2bf-4690-a8a1-bb74058ee659"
      },
      "outputs": [],
      "source": [
        "session.headers.update({\n",
        "    \"Authorization\" : f\"Bearer {API_KEY}\" ,\n",
        "    \"Content-Type\" : \"application/json\"\n",
        "})"
      ]
    },
    {
      "cell_type": "code",
      "execution_count": null,
      "id": "a81537f7-e046-4dab-ae51-b772ccab141e",
      "metadata": {
        "id": "a81537f7-e046-4dab-ae51-b772ccab141e",
        "outputId": "b960254a-31f5-4328-b75d-49ecc5ee8d49"
      },
      "outputs": [
        {
          "name": "stdout",
          "output_type": "stream",
          "text": [
            "Window start: 2024-01-01T00:00:00Z, window end: 2024-02-01T00:00:00Z.\n"
          ]
        }
      ],
      "source": [
        "# Define the start and end times with pandas, which can handle the conversion to RFC 3339\n",
        "start_date = pd.to_datetime(\"01/01/2024\", dayfirst=True).isoformat() + 'Z'\n",
        "end_date = pd.to_datetime(\"01/02/2024\", dayfirst=True).isoformat() + 'Z'\n",
        "\n",
        "print(f\"Window start: {start_date}, window end: {end_date}.\")"
      ]
    },
    {
      "cell_type": "code",
      "execution_count": null,
      "id": "000ffa1a-8d12-4d01-9e2e-6e6df26a742e",
      "metadata": {
        "id": "000ffa1a-8d12-4d01-9e2e-6e6df26a742e"
      },
      "outputs": [],
      "source": [
        "params = {\"from\": str(start_date), \"to\": str(end_date), \"granularity\": \"M15\", \"price\": \"MBA\"}"
      ]
    },
    {
      "cell_type": "code",
      "execution_count": null,
      "id": "14f11a31-c202-4061-9c4a-c60204bb99cc",
      "metadata": {
        "id": "14f11a31-c202-4061-9c4a-c60204bb99cc"
      },
      "outputs": [],
      "source": [
        "url = f\"{OANDA_URL}/accounts/{ACCOUNT_ID}/instruments\""
      ]
    },
    {
      "cell_type": "code",
      "execution_count": null,
      "id": "e72759cb-052c-4e7a-8e9b-7aeb47b15208",
      "metadata": {
        "id": "e72759cb-052c-4e7a-8e9b-7aeb47b15208"
      },
      "outputs": [],
      "source": [
        "response = session.get(url, params=None, data=None, headers=None)"
      ]
    },
    {
      "cell_type": "code",
      "execution_count": null,
      "id": "245e6123-1c99-4b06-a560-16d9cee29f3f",
      "metadata": {
        "id": "245e6123-1c99-4b06-a560-16d9cee29f3f",
        "outputId": "aa1e8e26-0823-4d58-b607-953300290d62"
      },
      "outputs": [
        {
          "data": {
            "text/plain": [
              "200"
            ]
          },
          "execution_count": 56,
          "metadata": {},
          "output_type": "execute_result"
        }
      ],
      "source": [
        "response.status_code"
      ]
    },
    {
      "cell_type": "code",
      "execution_count": null,
      "id": "1a8f02d5-9db3-4cbc-baa6-7031f73d2d0c",
      "metadata": {
        "scrolled": true,
        "id": "1a8f02d5-9db3-4cbc-baa6-7031f73d2d0c"
      },
      "outputs": [],
      "source": [
        "data = response.json()"
      ]
    },
    {
      "cell_type": "code",
      "execution_count": null,
      "id": "d9902429-a4ff-4607-bfea-33e971b250fb",
      "metadata": {
        "id": "d9902429-a4ff-4607-bfea-33e971b250fb"
      },
      "outputs": [],
      "source": [
        "instruments_list = data['instruments']"
      ]
    },
    {
      "cell_type": "code",
      "execution_count": null,
      "id": "f88f66ed-929c-4c9f-aafb-60fac1a119e0",
      "metadata": {
        "id": "f88f66ed-929c-4c9f-aafb-60fac1a119e0",
        "outputId": "02571956-0121-4030-d697-acd51eb14492"
      },
      "outputs": [
        {
          "data": {
            "text/plain": [
              "123"
            ]
          },
          "execution_count": 59,
          "metadata": {},
          "output_type": "execute_result"
        }
      ],
      "source": [
        "len(instruments_list)"
      ]
    },
    {
      "cell_type": "code",
      "execution_count": null,
      "id": "e916f566-0af9-489f-b26c-eeae36c98546",
      "metadata": {
        "id": "e916f566-0af9-489f-b26c-eeae36c98546",
        "outputId": "7cdee489-01cc-4998-84ce-83681c738da3"
      },
      "outputs": [
        {
          "data": {
            "text/plain": [
              "dict_keys(['name', 'type', 'displayName', 'pipLocation', 'displayPrecision', 'tradeUnitsPrecision', 'minimumTradeSize', 'maximumTrailingStopDistance', 'minimumTrailingStopDistance', 'maximumPositionSize', 'maximumOrderUnits', 'marginRate', 'guaranteedStopLossOrderMode', 'tags', 'financing'])"
            ]
          },
          "execution_count": 60,
          "metadata": {},
          "output_type": "execute_result"
        }
      ],
      "source": [
        "instruments_list[0].keys()"
      ]
    },
    {
      "cell_type": "code",
      "execution_count": null,
      "id": "04a3eb28-5551-41b7-b9be-1d121cbdbd43",
      "metadata": {
        "id": "04a3eb28-5551-41b7-b9be-1d121cbdbd43"
      },
      "outputs": [],
      "source": [
        "key_i = ['name', 'type', 'displayName', 'pipLocation', 'displayPrecision', 'tradeUnitsPrecision', 'marginRate']\n"
      ]
    },
    {
      "cell_type": "code",
      "execution_count": null,
      "id": "0cbba883-2792-480e-ab30-ba5b71c92669",
      "metadata": {
        "id": "0cbba883-2792-480e-ab30-ba5b71c92669"
      },
      "outputs": [],
      "source": [
        "instruments_dict = {}\n",
        "for i in instruments_list:\n",
        "    key = i['name']\n",
        "    instruments_dict[key] = { k: i[k] for k in key_i }\n"
      ]
    },
    {
      "cell_type": "code",
      "execution_count": null,
      "id": "f8e75bc8-8670-4643-81dd-155baa5ab24f",
      "metadata": {
        "id": "f8e75bc8-8670-4643-81dd-155baa5ab24f",
        "outputId": "c4ad4c5b-100a-40f0-dc36-889713a85b3e"
      },
      "outputs": [
        {
          "data": {
            "text/plain": [
              "{'name': 'XAU_USD',\n",
              " 'type': 'METAL',\n",
              " 'displayName': 'Gold',\n",
              " 'pipLocation': -2,\n",
              " 'displayPrecision': 3,\n",
              " 'tradeUnitsPrecision': 0,\n",
              " 'marginRate': '0.05'}"
            ]
          },
          "execution_count": 63,
          "metadata": {},
          "output_type": "execute_result"
        }
      ],
      "source": [
        "instruments_dict['XAU_USD']"
      ]
    },
    {
      "cell_type": "code",
      "execution_count": null,
      "id": "156f102b-10e0-431c-b35b-23465c533627",
      "metadata": {
        "id": "156f102b-10e0-431c-b35b-23465c533627"
      },
      "outputs": [],
      "source": [
        "with open(\"Data/instruments.json\", \"w\") as f:\n",
        "    f.write(json.dumps(instruments_dict, indent=2))"
      ]
    },
    {
      "cell_type": "code",
      "execution_count": null,
      "id": "d3296eee-381a-4f5d-a905-ccd3143a949e",
      "metadata": {
        "id": "d3296eee-381a-4f5d-a905-ccd3143a949e"
      },
      "outputs": [],
      "source": [
        "def fetch_candles(pair_name, start_date, end_date, granularity=\"M15\"):\n",
        "    url = f\"{OANDA_URL}/instruments/{pair_name}/candles\"\n",
        "    params = {\"from\": str(start_date), \"to\": str(end_date), \"granularity\": \"M15\", \"price\": \"MBA\"}\n",
        "\n",
        "    response = session.get(url, params=params, data=None, headers=None)\n",
        "    data = response.json()\n",
        "\n",
        "    if response.status_code == 200:\n",
        "        if 'candles' not in data:\n",
        "            data = []\n",
        "        else:\n",
        "            data = data['candles']\n",
        "    return response.status_code, data\n",
        "\n",
        "def get_candles_df(data):\n",
        "    if len(data) == 0:\n",
        "        return pd.DataFrame()\n",
        "    prices = ['mid', 'bid', 'ask']\n",
        "    ohlc = ['o', 'h', 'l', 'c']\n",
        "\n",
        "    final_data = []\n",
        "    for candle in data:\n",
        "        if candle['complete'] == False:\n",
        "                continue\n",
        "        new_dict = {}\n",
        "        new_dict['time'] = parser.parse(candle['time'])\n",
        "        new_dict['volume'] = candle['volume']\n",
        "        for p in prices:\n",
        "            for o in ohlc:\n",
        "                new_dict[f\"{p}_{o}\"] = float(candle[p][o])\n",
        "\n",
        "        final_data.append(new_dict)\n",
        "    df = pd.DataFrame.from_dict(final_data)\n",
        "    return df\n",
        "def create_data_file(pair_name, start_date, end_date, granularity=\"M15\"):\n",
        "    code, data = fetch_candles(pair_name, start_date, end_date, granularity=\"M15\")\n",
        "    if code != 200:\n",
        "        print(\"Failed\", pair_name, data)\n",
        "        return\n",
        "    if len(data) == 0:\n",
        "        print(\"No candles\", pair_name)\n",
        "    candles_df = get_candles_df(data)\n",
        "    candles_df.to_pickle(f\"Data/{pair_name}_{granularity}_1.pk1\")\n",
        "    print(f\"{pair_name} {granularity} {candles_df.shape[0]} candles, {candles_df.time.min()} {candles_df.time.max()}\")"
      ]
    },
    {
      "cell_type": "code",
      "execution_count": null,
      "id": "76fc1933-e171-4fd5-bb27-42ef37adb875",
      "metadata": {
        "id": "76fc1933-e171-4fd5-bb27-42ef37adb875"
      },
      "outputs": [],
      "source": [
        "code, data = fetch_candles(\"XAU_USD\", start_date, end_date, granularity=\"M15\")\n",
        "\n",
        "if code == 200 and data:\n",
        "    candles_df = get_candles_df(data)\n",
        "    # You can now work with `candles_df` DataFrame\n",
        "else:\n",
        "    print(f\"Failed to fetch candles with status code: {code}\")"
      ]
    },
    {
      "cell_type": "code",
      "execution_count": null,
      "id": "50f35c70-ab92-4a40-89f8-dba2adf165c8",
      "metadata": {
        "id": "50f35c70-ab92-4a40-89f8-dba2adf165c8",
        "outputId": "b610e9e3-f8e0-444e-c5f2-fcc0acd9199e"
      },
      "outputs": [
        {
          "data": {
            "text/plain": [
              "200"
            ]
          },
          "execution_count": 67,
          "metadata": {},
          "output_type": "execute_result"
        }
      ],
      "source": [
        "code"
      ]
    },
    {
      "cell_type": "code",
      "execution_count": null,
      "id": "85c0d479-f9a9-4fd4-83fc-6c6bf9718f1d",
      "metadata": {
        "id": "85c0d479-f9a9-4fd4-83fc-6c6bf9718f1d",
        "outputId": "a28fb5a9-c28d-4b2a-98ad-9be15acfd00a"
      },
      "outputs": [
        {
          "data": {
            "text/plain": [
              "2018"
            ]
          },
          "execution_count": 68,
          "metadata": {},
          "output_type": "execute_result"
        }
      ],
      "source": [
        "len(data)"
      ]
    },
    {
      "cell_type": "code",
      "execution_count": null,
      "id": "484ac448-a324-4f21-a2aa-e35b5353ba78",
      "metadata": {
        "id": "484ac448-a324-4f21-a2aa-e35b5353ba78",
        "outputId": "c295de70-655f-44e4-ad90-6ffaf2389a49"
      },
      "outputs": [
        {
          "data": {
            "text/plain": [
              "{'complete': True,\n",
              " 'volume': 397,\n",
              " 'time': '2024-01-01T23:00:00.000000000Z',\n",
              " 'bid': {'o': '2064.400', 'h': '2066.495', 'l': '2063.040', 'c': '2065.620'},\n",
              " 'mid': {'o': '2065.845', 'h': '2068.995', 'l': '2064.135', 'c': '2065.865'},\n",
              " 'ask': {'o': '2067.290', 'h': '2071.495', 'l': '2064.620', 'c': '2066.110'}}"
            ]
          },
          "execution_count": 69,
          "metadata": {},
          "output_type": "execute_result"
        }
      ],
      "source": [
        "data[0]"
      ]
    },
    {
      "cell_type": "code",
      "execution_count": null,
      "id": "f821b48c-9b63-4437-b82c-666a319d0a9f",
      "metadata": {
        "scrolled": true,
        "id": "f821b48c-9b63-4437-b82c-666a319d0a9f",
        "outputId": "7eb66c6e-8de5-4299-b027-5f68bde4379f"
      },
      "outputs": [
        {
          "data": {
            "text/html": [
              "<div>\n",
              "<style scoped>\n",
              "    .dataframe tbody tr th:only-of-type {\n",
              "        vertical-align: middle;\n",
              "    }\n",
              "\n",
              "    .dataframe tbody tr th {\n",
              "        vertical-align: top;\n",
              "    }\n",
              "\n",
              "    .dataframe thead th {\n",
              "        text-align: right;\n",
              "    }\n",
              "</style>\n",
              "<table border=\"1\" class=\"dataframe\">\n",
              "  <thead>\n",
              "    <tr style=\"text-align: right;\">\n",
              "      <th></th>\n",
              "      <th>time</th>\n",
              "      <th>volume</th>\n",
              "      <th>mid_o</th>\n",
              "      <th>mid_h</th>\n",
              "      <th>mid_l</th>\n",
              "      <th>mid_c</th>\n",
              "      <th>bid_o</th>\n",
              "      <th>bid_h</th>\n",
              "      <th>bid_l</th>\n",
              "      <th>bid_c</th>\n",
              "      <th>ask_o</th>\n",
              "      <th>ask_h</th>\n",
              "      <th>ask_l</th>\n",
              "      <th>ask_c</th>\n",
              "    </tr>\n",
              "  </thead>\n",
              "  <tbody>\n",
              "    <tr>\n",
              "      <th>0</th>\n",
              "      <td>2024-01-01 23:00:00+00:00</td>\n",
              "      <td>397</td>\n",
              "      <td>2065.845</td>\n",
              "      <td>2068.995</td>\n",
              "      <td>2064.135</td>\n",
              "      <td>2065.865</td>\n",
              "      <td>2064.40</td>\n",
              "      <td>2066.495</td>\n",
              "      <td>2063.04</td>\n",
              "      <td>2065.62</td>\n",
              "      <td>2067.29</td>\n",
              "      <td>2071.495</td>\n",
              "      <td>2064.62</td>\n",
              "      <td>2066.11</td>\n",
              "    </tr>\n",
              "    <tr>\n",
              "      <th>1</th>\n",
              "      <td>2024-01-01 23:15:00+00:00</td>\n",
              "      <td>498</td>\n",
              "      <td>2065.870</td>\n",
              "      <td>2066.295</td>\n",
              "      <td>2065.235</td>\n",
              "      <td>2065.275</td>\n",
              "      <td>2065.63</td>\n",
              "      <td>2066.080</td>\n",
              "      <td>2065.01</td>\n",
              "      <td>2065.07</td>\n",
              "      <td>2066.11</td>\n",
              "      <td>2066.540</td>\n",
              "      <td>2065.43</td>\n",
              "      <td>2065.48</td>\n",
              "    </tr>\n",
              "    <tr>\n",
              "      <th>2</th>\n",
              "      <td>2024-01-01 23:30:00+00:00</td>\n",
              "      <td>457</td>\n",
              "      <td>2065.225</td>\n",
              "      <td>2065.535</td>\n",
              "      <td>2064.300</td>\n",
              "      <td>2064.620</td>\n",
              "      <td>2065.07</td>\n",
              "      <td>2065.360</td>\n",
              "      <td>2064.14</td>\n",
              "      <td>2064.46</td>\n",
              "      <td>2065.38</td>\n",
              "      <td>2065.770</td>\n",
              "      <td>2064.46</td>\n",
              "      <td>2064.78</td>\n",
              "    </tr>\n",
              "    <tr>\n",
              "      <th>3</th>\n",
              "      <td>2024-01-01 23:45:00+00:00</td>\n",
              "      <td>554</td>\n",
              "      <td>2064.560</td>\n",
              "      <td>2064.590</td>\n",
              "      <td>2063.250</td>\n",
              "      <td>2063.795</td>\n",
              "      <td>2064.40</td>\n",
              "      <td>2064.430</td>\n",
              "      <td>2063.10</td>\n",
              "      <td>2063.62</td>\n",
              "      <td>2064.72</td>\n",
              "      <td>2064.750</td>\n",
              "      <td>2063.40</td>\n",
              "      <td>2063.97</td>\n",
              "    </tr>\n",
              "    <tr>\n",
              "      <th>4</th>\n",
              "      <td>2024-01-02 00:00:00+00:00</td>\n",
              "      <td>488</td>\n",
              "      <td>2063.835</td>\n",
              "      <td>2065.035</td>\n",
              "      <td>2063.475</td>\n",
              "      <td>2064.105</td>\n",
              "      <td>2063.67</td>\n",
              "      <td>2064.880</td>\n",
              "      <td>2063.31</td>\n",
              "      <td>2063.95</td>\n",
              "      <td>2064.00</td>\n",
              "      <td>2065.190</td>\n",
              "      <td>2063.64</td>\n",
              "      <td>2064.26</td>\n",
              "    </tr>\n",
              "    <tr>\n",
              "      <th>...</th>\n",
              "      <td>...</td>\n",
              "      <td>...</td>\n",
              "      <td>...</td>\n",
              "      <td>...</td>\n",
              "      <td>...</td>\n",
              "      <td>...</td>\n",
              "      <td>...</td>\n",
              "      <td>...</td>\n",
              "      <td>...</td>\n",
              "      <td>...</td>\n",
              "      <td>...</td>\n",
              "      <td>...</td>\n",
              "      <td>...</td>\n",
              "      <td>...</td>\n",
              "    </tr>\n",
              "    <tr>\n",
              "      <th>2013</th>\n",
              "      <td>2024-01-31 21:45:00+00:00</td>\n",
              "      <td>1031</td>\n",
              "      <td>2038.425</td>\n",
              "      <td>2039.200</td>\n",
              "      <td>2036.685</td>\n",
              "      <td>2039.155</td>\n",
              "      <td>2038.18</td>\n",
              "      <td>2038.950</td>\n",
              "      <td>2036.42</td>\n",
              "      <td>2038.93</td>\n",
              "      <td>2038.67</td>\n",
              "      <td>2039.450</td>\n",
              "      <td>2036.95</td>\n",
              "      <td>2039.38</td>\n",
              "    </tr>\n",
              "    <tr>\n",
              "      <th>2014</th>\n",
              "      <td>2024-01-31 23:00:00+00:00</td>\n",
              "      <td>491</td>\n",
              "      <td>2040.025</td>\n",
              "      <td>2041.385</td>\n",
              "      <td>2039.880</td>\n",
              "      <td>2040.980</td>\n",
              "      <td>2039.63</td>\n",
              "      <td>2041.150</td>\n",
              "      <td>2039.50</td>\n",
              "      <td>2040.67</td>\n",
              "      <td>2040.42</td>\n",
              "      <td>2041.670</td>\n",
              "      <td>2040.10</td>\n",
              "      <td>2041.29</td>\n",
              "    </tr>\n",
              "    <tr>\n",
              "      <th>2015</th>\n",
              "      <td>2024-01-31 23:15:00+00:00</td>\n",
              "      <td>562</td>\n",
              "      <td>2040.970</td>\n",
              "      <td>2041.385</td>\n",
              "      <td>2040.115</td>\n",
              "      <td>2041.275</td>\n",
              "      <td>2040.65</td>\n",
              "      <td>2041.150</td>\n",
              "      <td>2039.81</td>\n",
              "      <td>2041.04</td>\n",
              "      <td>2041.29</td>\n",
              "      <td>2041.620</td>\n",
              "      <td>2040.36</td>\n",
              "      <td>2041.51</td>\n",
              "    </tr>\n",
              "    <tr>\n",
              "      <th>2016</th>\n",
              "      <td>2024-01-31 23:30:00+00:00</td>\n",
              "      <td>329</td>\n",
              "      <td>2041.280</td>\n",
              "      <td>2041.280</td>\n",
              "      <td>2040.100</td>\n",
              "      <td>2040.535</td>\n",
              "      <td>2041.05</td>\n",
              "      <td>2041.050</td>\n",
              "      <td>2039.92</td>\n",
              "      <td>2040.35</td>\n",
              "      <td>2041.51</td>\n",
              "      <td>2041.510</td>\n",
              "      <td>2040.28</td>\n",
              "      <td>2040.72</td>\n",
              "    </tr>\n",
              "    <tr>\n",
              "      <th>2017</th>\n",
              "      <td>2024-01-31 23:45:00+00:00</td>\n",
              "      <td>345</td>\n",
              "      <td>2040.470</td>\n",
              "      <td>2041.275</td>\n",
              "      <td>2039.565</td>\n",
              "      <td>2039.975</td>\n",
              "      <td>2040.29</td>\n",
              "      <td>2041.120</td>\n",
              "      <td>2039.40</td>\n",
              "      <td>2039.82</td>\n",
              "      <td>2040.65</td>\n",
              "      <td>2041.430</td>\n",
              "      <td>2039.73</td>\n",
              "      <td>2040.13</td>\n",
              "    </tr>\n",
              "  </tbody>\n",
              "</table>\n",
              "<p>2018 rows × 14 columns</p>\n",
              "</div>"
            ],
            "text/plain": [
              "                          time  volume     mid_o     mid_h     mid_l  \\\n",
              "0    2024-01-01 23:00:00+00:00     397  2065.845  2068.995  2064.135   \n",
              "1    2024-01-01 23:15:00+00:00     498  2065.870  2066.295  2065.235   \n",
              "2    2024-01-01 23:30:00+00:00     457  2065.225  2065.535  2064.300   \n",
              "3    2024-01-01 23:45:00+00:00     554  2064.560  2064.590  2063.250   \n",
              "4    2024-01-02 00:00:00+00:00     488  2063.835  2065.035  2063.475   \n",
              "...                        ...     ...       ...       ...       ...   \n",
              "2013 2024-01-31 21:45:00+00:00    1031  2038.425  2039.200  2036.685   \n",
              "2014 2024-01-31 23:00:00+00:00     491  2040.025  2041.385  2039.880   \n",
              "2015 2024-01-31 23:15:00+00:00     562  2040.970  2041.385  2040.115   \n",
              "2016 2024-01-31 23:30:00+00:00     329  2041.280  2041.280  2040.100   \n",
              "2017 2024-01-31 23:45:00+00:00     345  2040.470  2041.275  2039.565   \n",
              "\n",
              "         mid_c    bid_o     bid_h    bid_l    bid_c    ask_o     ask_h  \\\n",
              "0     2065.865  2064.40  2066.495  2063.04  2065.62  2067.29  2071.495   \n",
              "1     2065.275  2065.63  2066.080  2065.01  2065.07  2066.11  2066.540   \n",
              "2     2064.620  2065.07  2065.360  2064.14  2064.46  2065.38  2065.770   \n",
              "3     2063.795  2064.40  2064.430  2063.10  2063.62  2064.72  2064.750   \n",
              "4     2064.105  2063.67  2064.880  2063.31  2063.95  2064.00  2065.190   \n",
              "...        ...      ...       ...      ...      ...      ...       ...   \n",
              "2013  2039.155  2038.18  2038.950  2036.42  2038.93  2038.67  2039.450   \n",
              "2014  2040.980  2039.63  2041.150  2039.50  2040.67  2040.42  2041.670   \n",
              "2015  2041.275  2040.65  2041.150  2039.81  2041.04  2041.29  2041.620   \n",
              "2016  2040.535  2041.05  2041.050  2039.92  2040.35  2041.51  2041.510   \n",
              "2017  2039.975  2040.29  2041.120  2039.40  2039.82  2040.65  2041.430   \n",
              "\n",
              "        ask_l    ask_c  \n",
              "0     2064.62  2066.11  \n",
              "1     2065.43  2065.48  \n",
              "2     2064.46  2064.78  \n",
              "3     2063.40  2063.97  \n",
              "4     2063.64  2064.26  \n",
              "...       ...      ...  \n",
              "2013  2036.95  2039.38  \n",
              "2014  2040.10  2041.29  \n",
              "2015  2040.36  2041.51  \n",
              "2016  2040.28  2040.72  \n",
              "2017  2039.73  2040.13  \n",
              "\n",
              "[2018 rows x 14 columns]"
            ]
          },
          "execution_count": 70,
          "metadata": {},
          "output_type": "execute_result"
        }
      ],
      "source": [
        "candles_df"
      ]
    },
    {
      "cell_type": "code",
      "execution_count": null,
      "id": "56f74a2d-048f-43e9-9645-d324189a560d",
      "metadata": {
        "id": "56f74a2d-048f-43e9-9645-d324189a560d",
        "outputId": "073ab9e4-c0ee-4594-fa1a-07f378f1dd6b"
      },
      "outputs": [
        {
          "name": "stdout",
          "output_type": "stream",
          "text": [
            "XAU_USD M15 2018 candles, 2024-01-01 23:00:00+00:00 2024-01-31 23:45:00+00:00\n"
          ]
        }
      ],
      "source": [
        "create_data_file('XAU_USD', start_date, end_date, granularity='M15')"
      ]
    },
    {
      "cell_type": "code",
      "execution_count": null,
      "id": "a5bff07d-8c60-48a8-80ae-4cf25b3d5fbd",
      "metadata": {
        "id": "a5bff07d-8c60-48a8-80ae-4cf25b3d5fbd",
        "outputId": "8bb4b8c1-1bc4-40ab-e0f4-e1ef660d4ebf"
      },
      "outputs": [
        {
          "name": "stdout",
          "output_type": "stream",
          "text": [
            "File not found: Data\\XAU_USD_M15_2.pk1\n",
            "File not found: Data\\XAU_USD_M15_3.pk1\n",
            "File not found: Data\\XAU_USD_M15_4.pk1\n",
            "File not found: Data\\XAU_USD_M15_5.pk1\n",
            "File not found: Data\\XAU_USD_M15_6.pk1\n",
            "File not found: Data\\XAU_USD_M15_7.pk1\n",
            "File not found: Data\\XAU_USD_M15_8.pk1\n",
            "File not found: Data\\XAU_USD_M15_9.pk1\n",
            "File not found: Data\\XAU_USD_M15_10.pk1\n",
            "File not found: Data\\XAU_USD_M15_11.pk1\n",
            "File not found: Data\\XAU_USD_M15_12.pk1\n",
            "Concatenated DataFrame saved to Data Augmented\\XAU_USD_M15_2023.pk1\n"
          ]
        }
      ],
      "source": [
        "# Set the directory where your .pk1 files are located\n",
        "data_directory = 'Data'\n",
        "# Set the directory where the new .pk1 file will be saved\n",
        "augmented_directory = 'Data Augmented'\n",
        "\n",
        "\n",
        "# List to hold dataframes\n",
        "dfs = []\n",
        "\n",
        "# Loop through the numbers 1 to 12 to read the files in order\n",
        "for month in range(1, 13):\n",
        "    # Construct the file name\n",
        "    file_name = f'XAU_USD_M15_{month}.pk1'\n",
        "    file_path = os.path.join(data_directory, file_name)\n",
        "\n",
        "    # Check if the file exists\n",
        "    if os.path.exists(file_path):\n",
        "        # Load the DataFrame from a pickle file\n",
        "        df = pd.read_pickle(file_path)\n",
        "        dfs.append(df)\n",
        "    else:\n",
        "        print(f\"File not found: {file_path}\")\n",
        "\n",
        "# Concatenate all the dataframes\n",
        "full_year_df = pd.concat(dfs, ignore_index=True)\n",
        "\n",
        "# Save the concatenated DataFrame to the new 'augmented_data' directory\n",
        "full_year_file_name = 'XAU_USD_M15_2023.pk1'\n",
        "full_year_file_path = os.path.join(augmented_directory, full_year_file_name)\n",
        "full_year_df.to_pickle(full_year_file_path)\n",
        "\n",
        "print(f\"Concatenated DataFrame saved to {full_year_file_path}\")"
      ]
    },
    {
      "cell_type": "code",
      "execution_count": null,
      "id": "96e5a89e-8ab5-4aae-b383-ae9aa78c8a86",
      "metadata": {
        "id": "96e5a89e-8ab5-4aae-b383-ae9aa78c8a86",
        "outputId": "53aa96ab-ac53-43c9-ebc8-f71c9d9ab1ad"
      },
      "outputs": [
        {
          "name": "stdout",
          "output_type": "stream",
          "text": [
            "The first few rows of the DataFrame:\n",
            "                       time  volume     mid_o     mid_h     mid_l     mid_c  \\\n",
            "0 2024-01-01 23:00:00+00:00     397  2065.845  2068.995  2064.135  2065.865   \n",
            "1 2024-01-01 23:15:00+00:00     498  2065.870  2066.295  2065.235  2065.275   \n",
            "2 2024-01-01 23:30:00+00:00     457  2065.225  2065.535  2064.300  2064.620   \n",
            "3 2024-01-01 23:45:00+00:00     554  2064.560  2064.590  2063.250  2063.795   \n",
            "4 2024-01-02 00:00:00+00:00     488  2063.835  2065.035  2063.475  2064.105   \n",
            "\n",
            "     bid_o     bid_h    bid_l    bid_c    ask_o     ask_h    ask_l    ask_c  \n",
            "0  2064.40  2066.495  2063.04  2065.62  2067.29  2071.495  2064.62  2066.11  \n",
            "1  2065.63  2066.080  2065.01  2065.07  2066.11  2066.540  2065.43  2065.48  \n",
            "2  2065.07  2065.360  2064.14  2064.46  2065.38  2065.770  2064.46  2064.78  \n",
            "3  2064.40  2064.430  2063.10  2063.62  2064.72  2064.750  2063.40  2063.97  \n",
            "4  2063.67  2064.880  2063.31  2063.95  2064.00  2065.190  2063.64  2064.26  \n",
            "\n",
            "The last few rows of the DataFrame:\n",
            "                          time  volume     mid_o     mid_h     mid_l  \\\n",
            "2013 2024-01-31 21:45:00+00:00    1031  2038.425  2039.200  2036.685   \n",
            "2014 2024-01-31 23:00:00+00:00     491  2040.025  2041.385  2039.880   \n",
            "2015 2024-01-31 23:15:00+00:00     562  2040.970  2041.385  2040.115   \n",
            "2016 2024-01-31 23:30:00+00:00     329  2041.280  2041.280  2040.100   \n",
            "2017 2024-01-31 23:45:00+00:00     345  2040.470  2041.275  2039.565   \n",
            "\n",
            "         mid_c    bid_o    bid_h    bid_l    bid_c    ask_o    ask_h    ask_l  \\\n",
            "2013  2039.155  2038.18  2038.95  2036.42  2038.93  2038.67  2039.45  2036.95   \n",
            "2014  2040.980  2039.63  2041.15  2039.50  2040.67  2040.42  2041.67  2040.10   \n",
            "2015  2041.275  2040.65  2041.15  2039.81  2041.04  2041.29  2041.62  2040.36   \n",
            "2016  2040.535  2041.05  2041.05  2039.92  2040.35  2041.51  2041.51  2040.28   \n",
            "2017  2039.975  2040.29  2041.12  2039.40  2039.82  2040.65  2041.43  2039.73   \n",
            "\n",
            "        ask_c  \n",
            "2013  2039.38  \n",
            "2014  2041.29  \n",
            "2015  2041.51  \n",
            "2016  2040.72  \n",
            "2017  2040.13  \n"
          ]
        }
      ],
      "source": [
        "# Set the file name of the new .pk1 file\n",
        "file_name = 'XAU_USD_M15_2023.pk1'\n",
        "# Construct the full path to the .pk1 file\n",
        "file_path = os.path.join(augmented_directory, file_name)\n",
        "\n",
        "# Check if the file exists\n",
        "if os.path.exists(file_path):\n",
        "    # Load the DataFrame from the pickle file\n",
        "    df = pd.read_pickle(file_path)\n",
        "\n",
        "    # Display the first few rows of the DataFrame\n",
        "    print(\"The first few rows of the DataFrame:\")\n",
        "    print(df.head())\n",
        "\n",
        "    # Display the last few rows of the DataFrame\n",
        "    print(\"\\nThe last few rows of the DataFrame:\")\n",
        "    print(df.tail())\n",
        "else:\n",
        "    print(f\"The file does not exist at the specified path: {file_path}\")"
      ]
    },
    {
      "cell_type": "code",
      "execution_count": null,
      "id": "51a0e575-4623-4683-99cc-30cabf37b788",
      "metadata": {
        "id": "51a0e575-4623-4683-99cc-30cabf37b788"
      },
      "outputs": [],
      "source": []
    }
  ],
  "metadata": {
    "kernelspec": {
      "display_name": "Python 3 (ipykernel)",
      "language": "python",
      "name": "python3"
    },
    "language_info": {
      "codemirror_mode": {
        "name": "ipython",
        "version": 3
      },
      "file_extension": ".py",
      "mimetype": "text/x-python",
      "name": "python",
      "nbconvert_exporter": "python",
      "pygments_lexer": "ipython3",
      "version": "3.11.8"
    },
    "colab": {
      "provenance": []
    }
  },
  "nbformat": 4,
  "nbformat_minor": 5
}